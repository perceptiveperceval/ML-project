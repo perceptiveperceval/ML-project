{
  "nbformat": 4,
  "nbformat_minor": 0,
  "metadata": {
    "colab": {
      "name": "Untitled1.ipynb",
      "provenance": [],
      "authorship_tag": "ABX9TyODzDtNimcqwL3eMpbLEfls",
      "include_colab_link": true
    },
    "kernelspec": {
      "name": "python3",
      "display_name": "Python 3"
    },
    "language_info": {
      "name": "python"
    }
  },
  "cells": [
    {
      "cell_type": "markdown",
      "metadata": {
        "id": "view-in-github",
        "colab_type": "text"
      },
      "source": [
        "<a href=\"https://colab.research.google.com/github/perceptiveperceval/ML-project/blob/main/Data%20Processing.ipynb\" target=\"_parent\"><img src=\"https://colab.research.google.com/assets/colab-badge.svg\" alt=\"Open In Colab\"/></a>"
      ]
    },
    {
      "cell_type": "markdown",
      "metadata": {
        "id": "WFd5PDxqphKP"
      },
      "source": [
        "Cloning respo."
      ]
    },
    {
      "cell_type": "code",
      "metadata": {
        "colab": {
          "base_uri": "https://localhost:8080/"
        },
        "id": "pKg9EW8_piWQ",
        "outputId": "b6eab640-b77d-4011-f9e5-9d4dc0759944"
      },
      "source": [
        "!git clone https://github.com/perceptiveperceval/ML-project.git"
      ],
      "execution_count": null,
      "outputs": [
        {
          "output_type": "stream",
          "text": [
            "fatal: destination path 'ML-project' already exists and is not an empty directory.\n"
          ],
          "name": "stdout"
        }
      ]
    },
    {
      "cell_type": "markdown",
      "metadata": {
        "id": "nfO6V-ArrSGC"
      },
      "source": [
        "Data Processing"
      ]
    },
    {
      "cell_type": "code",
      "metadata": {
        "id": "bNcd41rBrYkj"
      },
      "source": [
        "original_data=pd.read_csv('/content/ML-project/WA_Fn-UseC_-Telco-Customer-Churn.csv')\n",
        "data = original_data.copy(deep = True)"
      ],
      "execution_count": null,
      "outputs": []
    },
    {
      "cell_type": "code",
      "metadata": {
        "id": "WHruKjFCsRRy"
      },
      "source": [
        "#Changes TotalCharges type\n",
        "data['TotalCharges'] = pd.to_numeric(data['TotalCharges'], errors='coerce')\n",
        "\n",
        "#Add new feature Discount= MonthlyCharges*Tenure - TotalCharges\n",
        "#Assume that the customer don't change up their service mid-tenure, which is reasonable seeing that the highest tenure is 72\n",
        "data['Discount'] = (data['tenure'] * data['MonthlyCharges']) - data['TotalCharges']\n",
        "data['DiscountAbs'] = abs((data['tenure'] * data['MonthlyCharges']) - data['TotalCharges']) #Why not?\n",
        "\n",
        "\n",
        "#Add quantile of Total charges / Monthly charges | Binning\n",
        "#Maybe add lower quantile?\n",
        "data['monthly>2/3'] = np.where(data['MonthlyCharges']>data['MonthlyCharges'].quantile(2/3), 1, 0)\n",
        "data['total>2/3'] = np.where(data['TotalCharges']>data['TotalCharges'].quantile(2/3), 1, 0)\n",
        "data['tenure>2/3'] = np.where(data['tenure']>data['tenure'].quantile(2/3), 1, 0)\n",
        "data['monthly<1/3'] = np.where(data['MonthlyCharges']<data['MonthlyCharges'].quantile(1/3), 1, 0)\n",
        "data['total<1/3'] = np.where(data['TotalCharges']<data['TotalCharges'].quantile(1/3), 1, 0)\n",
        "data['tenure<1/3'] = np.where(data['tenure']<data['tenure'].quantile(1/3), 1, 0)\n",
        "\n",
        "#Changes to yes/no to binary; should be okay, maybe even redundant?\n",
        "data['Churn'] = data['Churn'].replace(\"No\", 0).replace(\"Yes\", 1)\n",
        "data['gender'] = data['gender'].replace(\"Male\", 1).replace(\"Female\", 0) #based?\n",
        "data['Partner'] = data['Partner'].replace(\"No\", 0).replace(\"Yes\", 1)\n",
        "data['Dependents'] = data['Dependents'].replace(\"No\", 0).replace(\"Yes\", 1)\n",
        "data['PhoneService'] = data['PhoneService'].replace(\"No\", 0).replace(\"Yes\", 1)\n",
        "data['PaperlessBilling'] = data['PaperlessBilling'].replace(\"No\", 0).replace(\"Yes\", 1)\n",
        "\n",
        "#Label encoding Contract\n",
        "data['Contract'] = data['Contract'].replace(\"Month-to-month\", 1).replace(\"One year\", 12).replace(\"Two year\", 24)\n",
        "\n",
        "#Choose dummy for the non-binary / non-numeric column\n",
        "dummy_cols = ['MultipleLines','InternetService','OnlineSecurity','OnlineBackup','DeviceProtection','TechSupport','StreamingTV','StreamingMovies','PaymentMethod']\n",
        "data = pd.get_dummies(data, columns=dummy_cols)\n",
        "\n",
        "#Drop faulty data and CustomerID\n",
        "data.dropna(inplace=True)\n",
        "data.drop(\"customerID\",inplace=True,axis=1)\n",
        "\n"
      ],
      "execution_count": null,
      "outputs": []
    },
    {
      "cell_type": "code",
      "metadata": {
        "id": "5_rWGk13rzs2"
      },
      "source": [
        "data.to_csv(\"/content/ML-project/data.csv\",index=False)"
      ],
      "execution_count": null,
      "outputs": []
    },
    {
      "cell_type": "code",
      "metadata": {
        "colab": {
          "base_uri": "https://localhost:8080/"
        },
        "id": "umokpVP0qMob",
        "outputId": "1038eb0b-89c1-492d-ac14-99b209738921"
      },
      "source": [
        "data.info()"
      ],
      "execution_count": null,
      "outputs": [
        {
          "output_type": "stream",
          "text": [
            "<class 'pandas.core.frame.DataFrame'>\n",
            "Int64Index: 7032 entries, 0 to 7042\n",
            "Data columns (total 47 columns):\n",
            " #   Column                                   Non-Null Count  Dtype  \n",
            "---  ------                                   --------------  -----  \n",
            " 0   gender                                   7032 non-null   int64  \n",
            " 1   SeniorCitizen                            7032 non-null   int64  \n",
            " 2   Partner                                  7032 non-null   int64  \n",
            " 3   Dependents                               7032 non-null   int64  \n",
            " 4   tenure                                   7032 non-null   int64  \n",
            " 5   PhoneService                             7032 non-null   int64  \n",
            " 6   Contract                                 7032 non-null   int64  \n",
            " 7   PaperlessBilling                         7032 non-null   int64  \n",
            " 8   MonthlyCharges                           7032 non-null   float64\n",
            " 9   TotalCharges                             7032 non-null   float64\n",
            " 10  Churn                                    7032 non-null   int64  \n",
            " 11  Discount                                 7032 non-null   float64\n",
            " 12  DiscountAbs                              7032 non-null   float64\n",
            " 13  monthly>2/3                              7032 non-null   int64  \n",
            " 14  total>2/3                                7032 non-null   int64  \n",
            " 15  tenure>2/3                               7032 non-null   int64  \n",
            " 16  monthly<1/3                              7032 non-null   int64  \n",
            " 17  total<1/3                                7032 non-null   int64  \n",
            " 18  tenure<1/3                               7032 non-null   int64  \n",
            " 19  MultipleLines_No                         7032 non-null   uint8  \n",
            " 20  MultipleLines_No phone service           7032 non-null   uint8  \n",
            " 21  MultipleLines_Yes                        7032 non-null   uint8  \n",
            " 22  InternetService_DSL                      7032 non-null   uint8  \n",
            " 23  InternetService_Fiber optic              7032 non-null   uint8  \n",
            " 24  InternetService_No                       7032 non-null   uint8  \n",
            " 25  OnlineSecurity_No                        7032 non-null   uint8  \n",
            " 26  OnlineSecurity_No internet service       7032 non-null   uint8  \n",
            " 27  OnlineSecurity_Yes                       7032 non-null   uint8  \n",
            " 28  OnlineBackup_No                          7032 non-null   uint8  \n",
            " 29  OnlineBackup_No internet service         7032 non-null   uint8  \n",
            " 30  OnlineBackup_Yes                         7032 non-null   uint8  \n",
            " 31  DeviceProtection_No                      7032 non-null   uint8  \n",
            " 32  DeviceProtection_No internet service     7032 non-null   uint8  \n",
            " 33  DeviceProtection_Yes                     7032 non-null   uint8  \n",
            " 34  TechSupport_No                           7032 non-null   uint8  \n",
            " 35  TechSupport_No internet service          7032 non-null   uint8  \n",
            " 36  TechSupport_Yes                          7032 non-null   uint8  \n",
            " 37  StreamingTV_No                           7032 non-null   uint8  \n",
            " 38  StreamingTV_No internet service          7032 non-null   uint8  \n",
            " 39  StreamingTV_Yes                          7032 non-null   uint8  \n",
            " 40  StreamingMovies_No                       7032 non-null   uint8  \n",
            " 41  StreamingMovies_No internet service      7032 non-null   uint8  \n",
            " 42  StreamingMovies_Yes                      7032 non-null   uint8  \n",
            " 43  PaymentMethod_Bank transfer (automatic)  7032 non-null   uint8  \n",
            " 44  PaymentMethod_Credit card (automatic)    7032 non-null   uint8  \n",
            " 45  PaymentMethod_Electronic check           7032 non-null   uint8  \n",
            " 46  PaymentMethod_Mailed check               7032 non-null   uint8  \n",
            "dtypes: float64(4), int64(15), uint8(28)\n",
            "memory usage: 1.3 MB\n"
          ],
          "name": "stdout"
        }
      ]
    }
  ]
}