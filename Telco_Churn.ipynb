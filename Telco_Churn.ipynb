{
  "nbformat": 4,
  "nbformat_minor": 0,
  "metadata": {
    "colab": {
      "name": "Telco Churn.ipynb",
      "provenance": [],
      "collapsed_sections": [],
      "include_colab_link": true
    },
    "kernelspec": {
      "display_name": "Python 3",
      "name": "python3"
    },
    "language_info": {
      "name": "python"
    }
  },
  "cells": [
    {
      "cell_type": "markdown",
      "metadata": {
        "id": "view-in-github",
        "colab_type": "text"
      },
      "source": [
        "<a href=\"https://colab.research.google.com/github/perceptiveperceval/ML-project/blob/main/Telco_Churn.ipynb\" target=\"_parent\"><img src=\"https://colab.research.google.com/assets/colab-badge.svg\" alt=\"Open In Colab\"/></a>"
      ]
    },
    {
      "cell_type": "markdown",
      "metadata": {
        "id": "c8YD-I-ZfZpd"
      },
      "source": [
        "\n",
        "\n",
        "# Cloning Respository / Import / Merge Data\n",
        "\n"
      ]
    },
    {
      "cell_type": "markdown",
      "metadata": {
        "id": "MCkmUNOKiojQ"
      },
      "source": [
        "Cloning Respo."
      ]
    },
    {
      "cell_type": "code",
      "metadata": {
        "colab": {
          "base_uri": "https://localhost:8080/"
        },
        "id": "3CPTKH_bqYva",
        "outputId": "03cd120a-5042-41e6-defd-f4b78ff0e373"
      },
      "source": [
        "!git clone https://github.com/perceptiveperceval/ML-project.git"
      ],
      "execution_count": null,
      "outputs": [
        {
          "output_type": "stream",
          "text": [
            "Cloning into 'ML-project'...\n",
            "remote: Enumerating objects: 32, done.\u001b[K\n",
            "remote: Counting objects: 100% (32/32), done.\u001b[K\n",
            "remote: Compressing objects: 100% (30/30), done.\u001b[K\n",
            "remote: Total 32 (delta 11), reused 0 (delta 0), pack-reused 0\u001b[K\n",
            "Unpacking objects: 100% (32/32), done.\n"
          ],
          "name": "stdout"
        }
      ]
    },
    {
      "cell_type": "markdown",
      "metadata": {
        "id": "Y1eM9hmJisbs"
      },
      "source": [
        "Import"
      ]
    },
    {
      "cell_type": "code",
      "metadata": {
        "id": "hoLcKh-DsnzJ"
      },
      "source": [
        "import warnings\n",
        "import numpy as np\n",
        "import pandas as pd\n",
        "import math\n",
        "import seaborn as sns\n",
        "import matplotlib.pyplot as plt\n",
        "from pandas.core.common import SettingWithCopyWarning # We don't really want to messed around with data-processing that much.\n",
        "warnings.simplefilter(action='ignore', category=FutureWarning)\n",
        "warnings.simplefilter(action='ignore', category=SettingWithCopyWarning)"
      ],
      "execution_count": null,
      "outputs": []
    },
    {
      "cell_type": "code",
      "metadata": {
        "colab": {
          "base_uri": "https://localhost:8080/"
        },
        "id": "NJsS8a9OcFvJ",
        "outputId": "da073860-ce96-4e7f-a729-8f0786ee49c1"
      },
      "source": [
        "pip install -U imbalanced-learn"
      ],
      "execution_count": null,
      "outputs": [
        {
          "output_type": "stream",
          "text": [
            "Collecting imbalanced-learn\n",
            "\u001b[?25l  Downloading https://files.pythonhosted.org/packages/80/98/dc784205a7e3034e84d41ac4781660c67ad6327f2f5a80c568df31673d1c/imbalanced_learn-0.8.0-py3-none-any.whl (206kB)\n",
            "\u001b[K     |████████████████████████████████| 215kB 3.2MB/s \n",
            "\u001b[?25hCollecting scikit-learn>=0.24\n",
            "\u001b[?25l  Downloading https://files.pythonhosted.org/packages/a8/eb/a48f25c967526b66d5f1fa7a984594f0bf0a5afafa94a8c4dbc317744620/scikit_learn-0.24.2-cp37-cp37m-manylinux2010_x86_64.whl (22.3MB)\n",
            "\u001b[K     |████████████████████████████████| 22.3MB 25.3MB/s \n",
            "\u001b[?25hRequirement already satisfied, skipping upgrade: scipy>=0.19.1 in /usr/local/lib/python3.7/dist-packages (from imbalanced-learn) (1.4.1)\n",
            "Requirement already satisfied, skipping upgrade: numpy>=1.13.3 in /usr/local/lib/python3.7/dist-packages (from imbalanced-learn) (1.19.5)\n",
            "Requirement already satisfied, skipping upgrade: joblib>=0.11 in /usr/local/lib/python3.7/dist-packages (from imbalanced-learn) (1.0.1)\n",
            "Collecting threadpoolctl>=2.0.0\n",
            "  Downloading https://files.pythonhosted.org/packages/f7/12/ec3f2e203afa394a149911729357aa48affc59c20e2c1c8297a60f33f133/threadpoolctl-2.1.0-py3-none-any.whl\n",
            "Installing collected packages: threadpoolctl, scikit-learn, imbalanced-learn\n",
            "  Found existing installation: scikit-learn 0.22.2.post1\n",
            "    Uninstalling scikit-learn-0.22.2.post1:\n",
            "      Successfully uninstalled scikit-learn-0.22.2.post1\n",
            "  Found existing installation: imbalanced-learn 0.4.3\n",
            "    Uninstalling imbalanced-learn-0.4.3:\n",
            "      Successfully uninstalled imbalanced-learn-0.4.3\n",
            "Successfully installed imbalanced-learn-0.8.0 scikit-learn-0.24.2 threadpoolctl-2.1.0\n"
          ],
          "name": "stdout"
        }
      ]
    },
    {
      "cell_type": "code",
      "metadata": {
        "colab": {
          "base_uri": "https://localhost:8080/"
        },
        "id": "-KD7vticcgbY",
        "outputId": "bad81d93-a16f-43ee-da15-4d52a9e01cf2"
      },
      "source": [
        "pip install -U scikit-lego"
      ],
      "execution_count": null,
      "outputs": [
        {
          "output_type": "stream",
          "text": [
            "Collecting scikit-lego\n",
            "\u001b[?25l  Downloading https://files.pythonhosted.org/packages/19/05/f7d5d93e0fc75a6b87d35c0f922b312fb4b673c4fe4ef8d0205a2061b194/scikit_lego-0.6.7-py2.py3-none-any.whl (222kB)\n",
            "\u001b[K     |████████████████████████████████| 225kB 2.3MB/s \n",
            "\u001b[?25hRequirement already satisfied, skipping upgrade: patsy>=0.5.1 in /usr/local/lib/python3.7/dist-packages (from scikit-lego) (0.5.1)\n",
            "Requirement already satisfied, skipping upgrade: pandas>=1.1.5 in /usr/local/lib/python3.7/dist-packages (from scikit-lego) (1.1.5)\n",
            "Collecting Deprecated>=1.2.6\n",
            "  Downloading https://files.pythonhosted.org/packages/fb/73/994edfcba74443146c84b91921fcc269374354118d4f452fb0c54c1cbb12/Deprecated-1.2.12-py2.py3-none-any.whl\n",
            "Collecting umap-learn>=0.4.6\n",
            "\u001b[?25l  Downloading https://files.pythonhosted.org/packages/75/69/85e7f950bb75792ad5d666d86c5f3e62eedbb942848e7e3126513af9999c/umap-learn-0.5.1.tar.gz (80kB)\n",
            "\u001b[K     |████████████████████████████████| 81kB 6.2MB/s \n",
            "\u001b[?25hRequirement already satisfied, skipping upgrade: scikit-learn>=0.24.1 in /usr/local/lib/python3.7/dist-packages (from scikit-lego) (0.24.2)\n",
            "Requirement already satisfied, skipping upgrade: autograd>=1.2 in /usr/local/lib/python3.7/dist-packages (from scikit-lego) (1.3)\n",
            "Requirement already satisfied, skipping upgrade: numpy>=1.4 in /usr/local/lib/python3.7/dist-packages (from patsy>=0.5.1->scikit-lego) (1.19.5)\n",
            "Requirement already satisfied, skipping upgrade: six in /usr/local/lib/python3.7/dist-packages (from patsy>=0.5.1->scikit-lego) (1.15.0)\n",
            "Requirement already satisfied, skipping upgrade: python-dateutil>=2.7.3 in /usr/local/lib/python3.7/dist-packages (from pandas>=1.1.5->scikit-lego) (2.8.1)\n",
            "Requirement already satisfied, skipping upgrade: pytz>=2017.2 in /usr/local/lib/python3.7/dist-packages (from pandas>=1.1.5->scikit-lego) (2018.9)\n",
            "Requirement already satisfied, skipping upgrade: wrapt<2,>=1.10 in /usr/local/lib/python3.7/dist-packages (from Deprecated>=1.2.6->scikit-lego) (1.12.1)\n",
            "Requirement already satisfied, skipping upgrade: scipy>=1.0 in /usr/local/lib/python3.7/dist-packages (from umap-learn>=0.4.6->scikit-lego) (1.4.1)\n",
            "Requirement already satisfied, skipping upgrade: numba>=0.49 in /usr/local/lib/python3.7/dist-packages (from umap-learn>=0.4.6->scikit-lego) (0.51.2)\n",
            "Collecting pynndescent>=0.5\n",
            "\u001b[?25l  Downloading https://files.pythonhosted.org/packages/af/65/8189298dd3a05bbad716ee8e249764ff8800e365d8dc652ad2192ca01b4a/pynndescent-0.5.2.tar.gz (1.1MB)\n",
            "\u001b[K     |████████████████████████████████| 1.2MB 13.4MB/s \n",
            "\u001b[?25hRequirement already satisfied, skipping upgrade: threadpoolctl>=2.0.0 in /usr/local/lib/python3.7/dist-packages (from scikit-learn>=0.24.1->scikit-lego) (2.1.0)\n",
            "Requirement already satisfied, skipping upgrade: joblib>=0.11 in /usr/local/lib/python3.7/dist-packages (from scikit-learn>=0.24.1->scikit-lego) (1.0.1)\n",
            "Requirement already satisfied, skipping upgrade: future>=0.15.2 in /usr/local/lib/python3.7/dist-packages (from autograd>=1.2->scikit-lego) (0.16.0)\n",
            "Requirement already satisfied, skipping upgrade: setuptools in /usr/local/lib/python3.7/dist-packages (from numba>=0.49->umap-learn>=0.4.6->scikit-lego) (57.0.0)\n",
            "Requirement already satisfied, skipping upgrade: llvmlite<0.35,>=0.34.0.dev0 in /usr/local/lib/python3.7/dist-packages (from numba>=0.49->umap-learn>=0.4.6->scikit-lego) (0.34.0)\n",
            "Building wheels for collected packages: umap-learn, pynndescent\n",
            "  Building wheel for umap-learn (setup.py) ... \u001b[?25l\u001b[?25hdone\n",
            "  Created wheel for umap-learn: filename=umap_learn-0.5.1-cp37-none-any.whl size=76569 sha256=2f783d370517ae939ba8e5844b63a332bced4370e4b847fc3a980483e5852fae\n",
            "  Stored in directory: /root/.cache/pip/wheels/ad/df/d5/a3691296ff779f25cd1cf415a3af954b987fb53111e3392cf4\n",
            "  Building wheel for pynndescent (setup.py) ... \u001b[?25l\u001b[?25hdone\n",
            "  Created wheel for pynndescent: filename=pynndescent-0.5.2-cp37-none-any.whl size=51362 sha256=d6b3ba8e3ed478ff9868d3ff06d8740b62f808a67e2f8e5a0dca8157bdca1a8c\n",
            "  Stored in directory: /root/.cache/pip/wheels/ba/52/4e/4c28d04d144a28f89e2575fb63628df6e6d49b56c5ddd0c74e\n",
            "Successfully built umap-learn pynndescent\n",
            "Installing collected packages: Deprecated, pynndescent, umap-learn, scikit-lego\n",
            "Successfully installed Deprecated-1.2.12 pynndescent-0.5.2 scikit-lego-0.6.7 umap-learn-0.5.1\n"
          ],
          "name": "stdout"
        }
      ]
    },
    {
      "cell_type": "code",
      "metadata": {
        "colab": {
          "base_uri": "https://localhost:8080/"
        },
        "id": "U4gNZEu_gMbq",
        "outputId": "f34e6b74-b00a-45e8-e5eb-cf3c4867cfef"
      },
      "source": [
        "pip install -U yellowbrick"
      ],
      "execution_count": null,
      "outputs": [
        {
          "output_type": "stream",
          "text": [
            "Collecting yellowbrick\n",
            "\u001b[?25l  Downloading https://files.pythonhosted.org/packages/3a/15/58feb940b6a2f52d3335cccf9e5d00704ec5ba62782da83f7e2abeca5e4b/yellowbrick-1.3.post1-py3-none-any.whl (271kB)\n",
            "\u001b[K     |████████████████████████████████| 276kB 3.3MB/s \n",
            "\u001b[?25hRequirement already satisfied, skipping upgrade: numpy<1.20,>=1.16.0 in /usr/local/lib/python3.7/dist-packages (from yellowbrick) (1.19.5)\n",
            "Requirement already satisfied, skipping upgrade: scikit-learn>=0.20 in /usr/local/lib/python3.7/dist-packages (from yellowbrick) (0.24.2)\n",
            "Requirement already satisfied, skipping upgrade: scipy>=1.0.0 in /usr/local/lib/python3.7/dist-packages (from yellowbrick) (1.4.1)\n",
            "Requirement already satisfied, skipping upgrade: matplotlib!=3.0.0,>=2.0.2 in /usr/local/lib/python3.7/dist-packages (from yellowbrick) (3.2.2)\n",
            "Requirement already satisfied, skipping upgrade: cycler>=0.10.0 in /usr/local/lib/python3.7/dist-packages (from yellowbrick) (0.10.0)\n",
            "Requirement already satisfied, skipping upgrade: joblib>=0.11 in /usr/local/lib/python3.7/dist-packages (from scikit-learn>=0.20->yellowbrick) (1.0.1)\n",
            "Requirement already satisfied, skipping upgrade: threadpoolctl>=2.0.0 in /usr/local/lib/python3.7/dist-packages (from scikit-learn>=0.20->yellowbrick) (2.1.0)\n",
            "Requirement already satisfied, skipping upgrade: kiwisolver>=1.0.1 in /usr/local/lib/python3.7/dist-packages (from matplotlib!=3.0.0,>=2.0.2->yellowbrick) (1.3.1)\n",
            "Requirement already satisfied, skipping upgrade: pyparsing!=2.0.4,!=2.1.2,!=2.1.6,>=2.0.1 in /usr/local/lib/python3.7/dist-packages (from matplotlib!=3.0.0,>=2.0.2->yellowbrick) (2.4.7)\n",
            "Requirement already satisfied, skipping upgrade: python-dateutil>=2.1 in /usr/local/lib/python3.7/dist-packages (from matplotlib!=3.0.0,>=2.0.2->yellowbrick) (2.8.1)\n",
            "Requirement already satisfied, skipping upgrade: six in /usr/local/lib/python3.7/dist-packages (from cycler>=0.10.0->yellowbrick) (1.15.0)\n",
            "Installing collected packages: yellowbrick\n",
            "  Found existing installation: yellowbrick 0.9.1\n",
            "    Uninstalling yellowbrick-0.9.1:\n",
            "      Successfully uninstalled yellowbrick-0.9.1\n",
            "Successfully installed yellowbrick-1.3.post1\n"
          ],
          "name": "stdout"
        }
      ]
    },
    {
      "cell_type": "markdown",
      "metadata": {
        "id": "LDMYv_SZivoF"
      },
      "source": [
        "This function will:\n",
        "\n",
        "1.   Read orginal data\n",
        "2.   Merge them using inner join\n",
        "3.   Fill most NaN values appropriately\n",
        "4.   Drop remaining row with NaN\n",
        "\n",
        "\n",
        "\n",
        "\n",
        "\n"
      ]
    },
    {
      "cell_type": "code",
      "metadata": {
        "id": "rPMXCvXqt1t-"
      },
      "source": [
        "def get_good_data():\n",
        "  #Read data\n",
        "  p_df_churn = pd.read_excel('/content/ML-project/Data.v3/Telco_customer_churn.xlsx')\n",
        "  p_df_cust_demo = pd.read_excel('/content/ML-project/Data.v3/Telco_customer_churn_demographics.xlsx')\n",
        "  p_df_cust_loc = pd.read_excel('/content/ML-project/Data.v3/Telco_customer_churn_location.xlsx')\n",
        "  p_df_cust_popu = pd.read_excel('/content/ML-project/Data.v3/Telco_customer_churn_population.xlsx')\n",
        "  p_df_cust_serv = pd.read_excel('/content/ML-project/Data.v3/Telco_customer_churn_services.xlsx')\n",
        "  p_df_cust_status = pd.read_excel('/content/ML-project/Data.v3/Telco_customer_churn_status.xlsx')\n",
        "\n",
        "  #Merge using inner join \n",
        "  df_merged = p_df_churn.merge(p_df_cust_demo, left_on = \"CustomerID\", right_on = \"Customer ID\",\n",
        "                  how='outer', suffixes=('', '_y'))\n",
        "  df_merged = df_merged.merge(p_df_cust_loc, left_on = \"CustomerID\", right_on = \"Customer ID\",\n",
        "                  how='outer', suffixes=('', '_y'))\n",
        "\n",
        "  df_merged = df_merged.merge(p_df_cust_serv, left_on = \"CustomerID\", right_on = \"Customer ID\",\n",
        "                  how='outer', suffixes=('', '_y'))\n",
        "\n",
        "  df_merged = df_merged.merge(p_df_cust_status, left_on = \"CustomerID\", right_on = \"Customer ID\",\n",
        "                  how='outer', suffixes=('', '_y'))\n",
        "\n",
        "  df_merged = df_merged.merge(p_df_cust_popu, left_on = \"Zip Code\", right_on= \"Zip Code\",\n",
        "                  how='outer', suffixes=('', '_y'))\n",
        "\n",
        "  df_merged.drop(df_merged.filter(regex='_y$').columns.tolist(),axis=1, inplace=True)\n",
        "\n",
        "  #Some columns have na values, fill with appropriate values\n",
        "  df_merged['Churn Reason'] = df_merged['Churn Reason'].fillna(\"Not churned\")\n",
        "  df_merged['Churn Category'] = df_merged['Churn Reason'].fillna(\"Not churned\")\n",
        "  df_merged['Offer'] = df_merged['Offer'].fillna(\"No Offer\")\n",
        "  #Total Charges and Total Revenues are for some reason object at the start, change to numeric\n",
        "  df_merged['Total Charges'] = pd.to_numeric(df_merged['Total Charges'], errors='coerce')\n",
        "  df_merged['Total Revenue'] = pd.to_numeric(df_merged['Total Charges'], errors='coerce')\n",
        "  df_merged['Total Charges'] = df_merged['Total Charges'].fillna(0)\n",
        "  df_merged['Total Revenue'] = df_merged['Total Revenue'].fillna(0)\n",
        "\n",
        "  #Drop na rows\n",
        "  is_NaN = df_merged.isnull()\n",
        "  row_has_NaN = is_NaN.any(axis=1)\n",
        "  rows_with_NaN = df_merged[row_has_NaN]\n",
        "  df_dropped = df_merged.dropna()\n",
        "  return df_dropped"
      ],
      "execution_count": null,
      "outputs": []
    },
    {
      "cell_type": "code",
      "metadata": {
        "id": "zWZLezFl0pxD"
      },
      "source": [
        "original_data = get_good_data()"
      ],
      "execution_count": null,
      "outputs": []
    },
    {
      "cell_type": "code",
      "metadata": {
        "colab": {
          "base_uri": "https://localhost:8080/"
        },
        "id": "8N66WTHrkOV5",
        "outputId": "ecc2f099-316a-4b4f-fe7a-f3511f6e4034"
      },
      "source": [
        "original_data.info()"
      ],
      "execution_count": null,
      "outputs": [
        {
          "output_type": "stream",
          "text": [
            "<class 'pandas.core.frame.DataFrame'>\n",
            "Int64Index: 7043 entries, 0 to 7042\n",
            "Data columns (total 60 columns):\n",
            " #   Column                             Non-Null Count  Dtype  \n",
            "---  ------                             --------------  -----  \n",
            " 0   CustomerID                         7043 non-null   object \n",
            " 1   Count                              7043 non-null   float64\n",
            " 2   Country                            7043 non-null   object \n",
            " 3   State                              7043 non-null   object \n",
            " 4   City                               7043 non-null   object \n",
            " 5   Zip Code                           7043 non-null   int64  \n",
            " 6   Lat Long                           7043 non-null   object \n",
            " 7   Latitude                           7043 non-null   float64\n",
            " 8   Longitude                          7043 non-null   float64\n",
            " 9   Gender                             7043 non-null   object \n",
            " 10  Senior Citizen                     7043 non-null   object \n",
            " 11  Partner                            7043 non-null   object \n",
            " 12  Dependents                         7043 non-null   object \n",
            " 13  Tenure Months                      7043 non-null   float64\n",
            " 14  Phone Service                      7043 non-null   object \n",
            " 15  Multiple Lines                     7043 non-null   object \n",
            " 16  Internet Service                   7043 non-null   object \n",
            " 17  Online Security                    7043 non-null   object \n",
            " 18  Online Backup                      7043 non-null   object \n",
            " 19  Device Protection                  7043 non-null   object \n",
            " 20  Tech Support                       7043 non-null   object \n",
            " 21  Streaming TV                       7043 non-null   object \n",
            " 22  Streaming Movies                   7043 non-null   object \n",
            " 23  Contract                           7043 non-null   object \n",
            " 24  Paperless Billing                  7043 non-null   object \n",
            " 25  Payment Method                     7043 non-null   object \n",
            " 26  Monthly Charges                    7043 non-null   float64\n",
            " 27  Total Charges                      7043 non-null   float64\n",
            " 28  Churn Label                        7043 non-null   object \n",
            " 29  Churn Value                        7043 non-null   float64\n",
            " 30  Churn Score                        7043 non-null   float64\n",
            " 31  CLTV                               7043 non-null   float64\n",
            " 32  Churn Reason                       7043 non-null   object \n",
            " 33  Customer ID                        7043 non-null   object \n",
            " 34  Age                                7043 non-null   float64\n",
            " 35  Under 30                           7043 non-null   object \n",
            " 36  Married                            7043 non-null   object \n",
            " 37  Number of Dependents               7043 non-null   float64\n",
            " 38  Quarter                            7043 non-null   object \n",
            " 39  Referred a Friend                  7043 non-null   object \n",
            " 40  Number of Referrals                7043 non-null   float64\n",
            " 41  Tenure in Months                   7043 non-null   float64\n",
            " 42  Offer                              7043 non-null   object \n",
            " 43  Avg Monthly Long Distance Charges  7043 non-null   float64\n",
            " 44  Internet Type                      7043 non-null   object \n",
            " 45  Avg Monthly GB Download            7043 non-null   float64\n",
            " 46  Device Protection Plan             7043 non-null   object \n",
            " 47  Premium Tech Support               7043 non-null   object \n",
            " 48  Streaming Music                    7043 non-null   object \n",
            " 49  Unlimited Data                     7043 non-null   object \n",
            " 50  Monthly Charge                     7043 non-null   float64\n",
            " 51  Total Refunds                      7043 non-null   float64\n",
            " 52  Total Extra Data Charges           7043 non-null   float64\n",
            " 53  Total Long Distance Charges        7043 non-null   float64\n",
            " 54  Total Revenue                      7043 non-null   float64\n",
            " 55  Satisfaction Score                 7043 non-null   float64\n",
            " 56  Customer Status                    7043 non-null   object \n",
            " 57  Churn Category                     7043 non-null   object \n",
            " 58  ID                                 7043 non-null   int64  \n",
            " 59  Population                         7043 non-null   int64  \n",
            "dtypes: float64(21), int64(3), object(36)\n",
            "memory usage: 3.3+ MB\n"
          ],
          "name": "stdout"
        }
      ]
    },
    {
      "cell_type": "code",
      "metadata": {
        "colab": {
          "base_uri": "https://localhost:8080/",
          "height": 415
        },
        "id": "m3d2ZqY0kXif",
        "outputId": "c8b174a4-de9f-4dff-b856-40b415c17d47"
      },
      "source": [
        "original_data.head()"
      ],
      "execution_count": null,
      "outputs": [
        {
          "output_type": "execute_result",
          "data": {
            "text/html": [
              "<div>\n",
              "<style scoped>\n",
              "    .dataframe tbody tr th:only-of-type {\n",
              "        vertical-align: middle;\n",
              "    }\n",
              "\n",
              "    .dataframe tbody tr th {\n",
              "        vertical-align: top;\n",
              "    }\n",
              "\n",
              "    .dataframe thead th {\n",
              "        text-align: right;\n",
              "    }\n",
              "</style>\n",
              "<table border=\"1\" class=\"dataframe\">\n",
              "  <thead>\n",
              "    <tr style=\"text-align: right;\">\n",
              "      <th></th>\n",
              "      <th>CustomerID</th>\n",
              "      <th>Count</th>\n",
              "      <th>Country</th>\n",
              "      <th>State</th>\n",
              "      <th>City</th>\n",
              "      <th>Zip Code</th>\n",
              "      <th>Lat Long</th>\n",
              "      <th>Latitude</th>\n",
              "      <th>Longitude</th>\n",
              "      <th>Gender</th>\n",
              "      <th>Senior Citizen</th>\n",
              "      <th>Partner</th>\n",
              "      <th>Dependents</th>\n",
              "      <th>Tenure Months</th>\n",
              "      <th>Phone Service</th>\n",
              "      <th>Multiple Lines</th>\n",
              "      <th>Internet Service</th>\n",
              "      <th>Online Security</th>\n",
              "      <th>Online Backup</th>\n",
              "      <th>Device Protection</th>\n",
              "      <th>Tech Support</th>\n",
              "      <th>Streaming TV</th>\n",
              "      <th>Streaming Movies</th>\n",
              "      <th>Contract</th>\n",
              "      <th>Paperless Billing</th>\n",
              "      <th>Payment Method</th>\n",
              "      <th>Monthly Charges</th>\n",
              "      <th>Total Charges</th>\n",
              "      <th>Churn Label</th>\n",
              "      <th>Churn Value</th>\n",
              "      <th>Churn Score</th>\n",
              "      <th>CLTV</th>\n",
              "      <th>Churn Reason</th>\n",
              "      <th>Customer ID</th>\n",
              "      <th>Age</th>\n",
              "      <th>Under 30</th>\n",
              "      <th>Married</th>\n",
              "      <th>Number of Dependents</th>\n",
              "      <th>Quarter</th>\n",
              "      <th>Referred a Friend</th>\n",
              "      <th>Number of Referrals</th>\n",
              "      <th>Tenure in Months</th>\n",
              "      <th>Offer</th>\n",
              "      <th>Avg Monthly Long Distance Charges</th>\n",
              "      <th>Internet Type</th>\n",
              "      <th>Avg Monthly GB Download</th>\n",
              "      <th>Device Protection Plan</th>\n",
              "      <th>Premium Tech Support</th>\n",
              "      <th>Streaming Music</th>\n",
              "      <th>Unlimited Data</th>\n",
              "      <th>Monthly Charge</th>\n",
              "      <th>Total Refunds</th>\n",
              "      <th>Total Extra Data Charges</th>\n",
              "      <th>Total Long Distance Charges</th>\n",
              "      <th>Total Revenue</th>\n",
              "      <th>Satisfaction Score</th>\n",
              "      <th>Customer Status</th>\n",
              "      <th>Churn Category</th>\n",
              "      <th>ID</th>\n",
              "      <th>Population</th>\n",
              "    </tr>\n",
              "  </thead>\n",
              "  <tbody>\n",
              "    <tr>\n",
              "      <th>0</th>\n",
              "      <td>3668-QPYBK</td>\n",
              "      <td>1.0</td>\n",
              "      <td>United States</td>\n",
              "      <td>California</td>\n",
              "      <td>Los Angeles</td>\n",
              "      <td>90003</td>\n",
              "      <td>33.964131, -118.272783</td>\n",
              "      <td>33.964131</td>\n",
              "      <td>-118.272783</td>\n",
              "      <td>Male</td>\n",
              "      <td>No</td>\n",
              "      <td>No</td>\n",
              "      <td>No</td>\n",
              "      <td>2.0</td>\n",
              "      <td>Yes</td>\n",
              "      <td>No</td>\n",
              "      <td>DSL</td>\n",
              "      <td>Yes</td>\n",
              "      <td>Yes</td>\n",
              "      <td>No</td>\n",
              "      <td>No</td>\n",
              "      <td>No</td>\n",
              "      <td>No</td>\n",
              "      <td>Month-to-month</td>\n",
              "      <td>Yes</td>\n",
              "      <td>Mailed check</td>\n",
              "      <td>53.85</td>\n",
              "      <td>108.15</td>\n",
              "      <td>Yes</td>\n",
              "      <td>1.0</td>\n",
              "      <td>86.0</td>\n",
              "      <td>3239.0</td>\n",
              "      <td>Competitor made better offer</td>\n",
              "      <td>3668-QPYBK</td>\n",
              "      <td>37.0</td>\n",
              "      <td>No</td>\n",
              "      <td>No</td>\n",
              "      <td>0.0</td>\n",
              "      <td>Q3</td>\n",
              "      <td>No</td>\n",
              "      <td>0.0</td>\n",
              "      <td>2.0</td>\n",
              "      <td>None</td>\n",
              "      <td>10.47</td>\n",
              "      <td>DSL</td>\n",
              "      <td>21.0</td>\n",
              "      <td>No</td>\n",
              "      <td>No</td>\n",
              "      <td>No</td>\n",
              "      <td>Yes</td>\n",
              "      <td>53.85</td>\n",
              "      <td>0.0</td>\n",
              "      <td>0.0</td>\n",
              "      <td>20.94</td>\n",
              "      <td>108.15</td>\n",
              "      <td>1.0</td>\n",
              "      <td>Churned</td>\n",
              "      <td>Competitor made better offer</td>\n",
              "      <td>3</td>\n",
              "      <td>58198</td>\n",
              "    </tr>\n",
              "    <tr>\n",
              "      <th>1</th>\n",
              "      <td>2967-MXRAV</td>\n",
              "      <td>1.0</td>\n",
              "      <td>United States</td>\n",
              "      <td>California</td>\n",
              "      <td>Los Angeles</td>\n",
              "      <td>90003</td>\n",
              "      <td>33.964131, -118.272783</td>\n",
              "      <td>33.964131</td>\n",
              "      <td>-118.272783</td>\n",
              "      <td>Male</td>\n",
              "      <td>No</td>\n",
              "      <td>Yes</td>\n",
              "      <td>No</td>\n",
              "      <td>1.0</td>\n",
              "      <td>Yes</td>\n",
              "      <td>No</td>\n",
              "      <td>No</td>\n",
              "      <td>No internet service</td>\n",
              "      <td>No internet service</td>\n",
              "      <td>No internet service</td>\n",
              "      <td>No internet service</td>\n",
              "      <td>No internet service</td>\n",
              "      <td>No internet service</td>\n",
              "      <td>One year</td>\n",
              "      <td>No</td>\n",
              "      <td>Mailed check</td>\n",
              "      <td>18.80</td>\n",
              "      <td>18.80</td>\n",
              "      <td>No</td>\n",
              "      <td>0.0</td>\n",
              "      <td>51.0</td>\n",
              "      <td>5160.0</td>\n",
              "      <td>Not churned</td>\n",
              "      <td>2967-MXRAV</td>\n",
              "      <td>29.0</td>\n",
              "      <td>Yes</td>\n",
              "      <td>Yes</td>\n",
              "      <td>0.0</td>\n",
              "      <td>Q3</td>\n",
              "      <td>Yes</td>\n",
              "      <td>9.0</td>\n",
              "      <td>1.0</td>\n",
              "      <td>None</td>\n",
              "      <td>43.57</td>\n",
              "      <td>None</td>\n",
              "      <td>0.0</td>\n",
              "      <td>No</td>\n",
              "      <td>No</td>\n",
              "      <td>No</td>\n",
              "      <td>No</td>\n",
              "      <td>18.80</td>\n",
              "      <td>0.0</td>\n",
              "      <td>0.0</td>\n",
              "      <td>43.57</td>\n",
              "      <td>18.80</td>\n",
              "      <td>3.0</td>\n",
              "      <td>Joined</td>\n",
              "      <td>Not churned</td>\n",
              "      <td>3</td>\n",
              "      <td>58198</td>\n",
              "    </tr>\n",
              "    <tr>\n",
              "      <th>2</th>\n",
              "      <td>9643-AVVWI</td>\n",
              "      <td>1.0</td>\n",
              "      <td>United States</td>\n",
              "      <td>California</td>\n",
              "      <td>Los Angeles</td>\n",
              "      <td>90003</td>\n",
              "      <td>33.964131, -118.272783</td>\n",
              "      <td>33.964131</td>\n",
              "      <td>-118.272783</td>\n",
              "      <td>Female</td>\n",
              "      <td>No</td>\n",
              "      <td>Yes</td>\n",
              "      <td>Yes</td>\n",
              "      <td>3.0</td>\n",
              "      <td>Yes</td>\n",
              "      <td>No</td>\n",
              "      <td>Fiber optic</td>\n",
              "      <td>No</td>\n",
              "      <td>Yes</td>\n",
              "      <td>No</td>\n",
              "      <td>Yes</td>\n",
              "      <td>No</td>\n",
              "      <td>No</td>\n",
              "      <td>Month-to-month</td>\n",
              "      <td>Yes</td>\n",
              "      <td>Electronic check</td>\n",
              "      <td>80.00</td>\n",
              "      <td>241.30</td>\n",
              "      <td>No</td>\n",
              "      <td>0.0</td>\n",
              "      <td>76.0</td>\n",
              "      <td>4264.0</td>\n",
              "      <td>Not churned</td>\n",
              "      <td>9643-AVVWI</td>\n",
              "      <td>49.0</td>\n",
              "      <td>No</td>\n",
              "      <td>Yes</td>\n",
              "      <td>3.0</td>\n",
              "      <td>Q3</td>\n",
              "      <td>Yes</td>\n",
              "      <td>2.0</td>\n",
              "      <td>3.0</td>\n",
              "      <td>None</td>\n",
              "      <td>19.18</td>\n",
              "      <td>Fiber Optic</td>\n",
              "      <td>22.0</td>\n",
              "      <td>No</td>\n",
              "      <td>Yes</td>\n",
              "      <td>No</td>\n",
              "      <td>Yes</td>\n",
              "      <td>80.00</td>\n",
              "      <td>0.0</td>\n",
              "      <td>0.0</td>\n",
              "      <td>57.54</td>\n",
              "      <td>241.30</td>\n",
              "      <td>3.0</td>\n",
              "      <td>Joined</td>\n",
              "      <td>Not churned</td>\n",
              "      <td>3</td>\n",
              "      <td>58198</td>\n",
              "    </tr>\n",
              "    <tr>\n",
              "      <th>3</th>\n",
              "      <td>0060-FUALY</td>\n",
              "      <td>1.0</td>\n",
              "      <td>United States</td>\n",
              "      <td>California</td>\n",
              "      <td>Los Angeles</td>\n",
              "      <td>90003</td>\n",
              "      <td>33.964131, -118.272783</td>\n",
              "      <td>33.964131</td>\n",
              "      <td>-118.272783</td>\n",
              "      <td>Female</td>\n",
              "      <td>No</td>\n",
              "      <td>Yes</td>\n",
              "      <td>No</td>\n",
              "      <td>59.0</td>\n",
              "      <td>Yes</td>\n",
              "      <td>Yes</td>\n",
              "      <td>Fiber optic</td>\n",
              "      <td>Yes</td>\n",
              "      <td>Yes</td>\n",
              "      <td>No</td>\n",
              "      <td>No</td>\n",
              "      <td>Yes</td>\n",
              "      <td>No</td>\n",
              "      <td>Month-to-month</td>\n",
              "      <td>Yes</td>\n",
              "      <td>Electronic check</td>\n",
              "      <td>94.75</td>\n",
              "      <td>5597.65</td>\n",
              "      <td>No</td>\n",
              "      <td>0.0</td>\n",
              "      <td>26.0</td>\n",
              "      <td>5238.0</td>\n",
              "      <td>Not churned</td>\n",
              "      <td>0060-FUALY</td>\n",
              "      <td>60.0</td>\n",
              "      <td>No</td>\n",
              "      <td>Yes</td>\n",
              "      <td>0.0</td>\n",
              "      <td>Q3</td>\n",
              "      <td>Yes</td>\n",
              "      <td>4.0</td>\n",
              "      <td>59.0</td>\n",
              "      <td>Offer B</td>\n",
              "      <td>16.39</td>\n",
              "      <td>Fiber Optic</td>\n",
              "      <td>14.0</td>\n",
              "      <td>No</td>\n",
              "      <td>No</td>\n",
              "      <td>No</td>\n",
              "      <td>Yes</td>\n",
              "      <td>94.75</td>\n",
              "      <td>0.0</td>\n",
              "      <td>0.0</td>\n",
              "      <td>967.01</td>\n",
              "      <td>5597.65</td>\n",
              "      <td>3.0</td>\n",
              "      <td>Stayed</td>\n",
              "      <td>Not churned</td>\n",
              "      <td>3</td>\n",
              "      <td>58198</td>\n",
              "    </tr>\n",
              "    <tr>\n",
              "      <th>4</th>\n",
              "      <td>9696-RMYBA</td>\n",
              "      <td>1.0</td>\n",
              "      <td>United States</td>\n",
              "      <td>California</td>\n",
              "      <td>Los Angeles</td>\n",
              "      <td>90003</td>\n",
              "      <td>33.964131, -118.272783</td>\n",
              "      <td>33.964131</td>\n",
              "      <td>-118.272783</td>\n",
              "      <td>Male</td>\n",
              "      <td>No</td>\n",
              "      <td>No</td>\n",
              "      <td>No</td>\n",
              "      <td>5.0</td>\n",
              "      <td>Yes</td>\n",
              "      <td>No</td>\n",
              "      <td>Fiber optic</td>\n",
              "      <td>No</td>\n",
              "      <td>No</td>\n",
              "      <td>No</td>\n",
              "      <td>No</td>\n",
              "      <td>Yes</td>\n",
              "      <td>No</td>\n",
              "      <td>Month-to-month</td>\n",
              "      <td>Yes</td>\n",
              "      <td>Mailed check</td>\n",
              "      <td>80.10</td>\n",
              "      <td>398.55</td>\n",
              "      <td>No</td>\n",
              "      <td>0.0</td>\n",
              "      <td>22.0</td>\n",
              "      <td>5225.0</td>\n",
              "      <td>Not churned</td>\n",
              "      <td>9696-RMYBA</td>\n",
              "      <td>56.0</td>\n",
              "      <td>No</td>\n",
              "      <td>No</td>\n",
              "      <td>0.0</td>\n",
              "      <td>Q3</td>\n",
              "      <td>No</td>\n",
              "      <td>0.0</td>\n",
              "      <td>5.0</td>\n",
              "      <td>None</td>\n",
              "      <td>12.35</td>\n",
              "      <td>Fiber Optic</td>\n",
              "      <td>13.0</td>\n",
              "      <td>No</td>\n",
              "      <td>No</td>\n",
              "      <td>No</td>\n",
              "      <td>Yes</td>\n",
              "      <td>80.10</td>\n",
              "      <td>0.0</td>\n",
              "      <td>0.0</td>\n",
              "      <td>61.75</td>\n",
              "      <td>398.55</td>\n",
              "      <td>3.0</td>\n",
              "      <td>Stayed</td>\n",
              "      <td>Not churned</td>\n",
              "      <td>3</td>\n",
              "      <td>58198</td>\n",
              "    </tr>\n",
              "  </tbody>\n",
              "</table>\n",
              "</div>"
            ],
            "text/plain": [
              "   CustomerID  Count  ... ID Population\n",
              "0  3668-QPYBK    1.0  ...  3      58198\n",
              "1  2967-MXRAV    1.0  ...  3      58198\n",
              "2  9643-AVVWI    1.0  ...  3      58198\n",
              "3  0060-FUALY    1.0  ...  3      58198\n",
              "4  9696-RMYBA    1.0  ...  3      58198\n",
              "\n",
              "[5 rows x 60 columns]"
            ]
          },
          "metadata": {
            "tags": []
          },
          "execution_count": 13
        }
      ]
    },
    {
      "cell_type": "markdown",
      "metadata": {
        "id": "zUJKEAKTZyjo"
      },
      "source": [
        "# Data Exploration"
      ]
    },
    {
      "cell_type": "code",
      "metadata": {
        "colab": {
          "base_uri": "https://localhost:8080/",
          "height": 264
        },
        "id": "6xCyGH0K42U0",
        "outputId": "cd7d5b5f-44bc-4153-c603-9c2ccd64a090"
      },
      "source": [
        "plt.pie(original_data[\"Churn Value\"].value_counts(), autopct = '%1.2f%%', labels=[0, 1])\n",
        "plt.title('Percentage of Churn')\n",
        "plt.show()"
      ],
      "execution_count": null,
      "outputs": [
        {
          "output_type": "display_data",
          "data": {
            "image/png": "[encoded data removed]",
            "text/plain": [
              "<Figure size 432x288 with 1 Axes>"
            ]
          },
          "metadata": {
            "tags": []
          }
        }
      ]
    },
    {
      "cell_type": "code",
      "metadata": {
        "id": "I0SxkuFId8xQ"
      },
      "source": [
        "def churn_plot(col): #This function will plot out the churn count for each feature\n",
        "  numeric = ['Tenure Months',  \n",
        "           'Monthly Charges', \n",
        "           'Total Charges', \n",
        "           'Age', \n",
        "           'Number of Dependents', \n",
        "           'Number of Referrals', \n",
        "           'Avg Monthly Long Distance Charges',\n",
        "           'Avg Monthly GB Download',\n",
        "           'Total Refunds',\n",
        "           'Total Extra Data Charges',\n",
        "           'Total Long Distance Charges',\n",
        "           'Population'\n",
        "           ]\n",
        "  if col in numeric:\n",
        "    sns.displot(data, x='Monthly Charges', hue = 'Churn Value', element='step')\n",
        "  else:\n",
        "    sns.countplot(x='Churn Value', hue=col, data=data)"
      ],
      "execution_count": null,
      "outputs": []
    },
    {
      "cell_type": "code",
      "metadata": {
        "id": "0IDlDUMoeyga"
      },
      "source": [
        "#churn_plot()"
      ],
      "execution_count": null,
      "outputs": []
    },
    {
      "cell_type": "code",
      "metadata": {
        "id": "ubzW3Vd7ffKk"
      },
      "source": [
        "def box_plot(col): #Box plot for numeric features\n",
        "  numeric = ['Tenure Months',  \n",
        "           'Monthly Charges', \n",
        "           'Total Charges', \n",
        "           'Age', \n",
        "           'Number of Dependents', \n",
        "           'Number of Referrals', \n",
        "           'Avg Monthly Long Distance Charges',\n",
        "           'Avg Monthly GB Download',\n",
        "           'Total Refunds',\n",
        "           'Total Extra Data Charges',\n",
        "           'Total Long Distance Charges',\n",
        "           'Population'\n",
        "           ]\n",
        "  if col in numeric:\n",
        "    original_data[col].plot.box()"
      ],
      "execution_count": null,
      "outputs": []
    },
    {
      "cell_type": "code",
      "metadata": {
        "id": "FM_iNYmJ5PE0"
      },
      "source": [
        "#box_plot()"
      ],
      "execution_count": null,
      "outputs": []
    },
    {
      "cell_type": "markdown",
      "metadata": {
        "id": "x6Kcnw6Qf5DJ"
      },
      "source": [
        "# Processing data / Train-test Split / Feature Selection"
      ]
    },
    {
      "cell_type": "code",
      "metadata": {
        "id": "B1BNPLvklRPg"
      },
      "source": [
        "def outlier_plot():\n",
        "  having_outliers = ['Number of Dependents', \n",
        "            'Number of Referrals',\n",
        "            'Avg Monthly GB Download',\n",
        "            'Total Refunds',\n",
        "            'Total Extra Data Charges',\n",
        "            'Total Long Distance Charges',\n",
        "            'Population'\n",
        "            ]\n",
        "  for i in having_outliers:\n",
        "    plt.hist(original_data[i], bins=20)\n",
        "    plt.xlabel(i)\n",
        "    plt.ylabel('Count')\n",
        "    plt.show()"
      ],
      "execution_count": null,
      "outputs": []
    },
    {
      "cell_type": "code",
      "metadata": {
        "colab": {
          "base_uri": "https://localhost:8080/",
          "height": 1000
        },
        "id": "QU8Pg-Bx5dQH",
        "outputId": "a9f20914-3f6b-44a0-c0b2-455d872c25a4"
      },
      "source": [
        "outlier_plot()"
      ],
      "execution_count": null,
      "outputs": [
        {
          "output_type": "display_data",
          "data": {
            "image/png": "[encoded data removed]",
            "text/plain": [
              "<Figure size 432x288 with 1 Axes>"
            ]
          },
          "metadata": {
            "tags": [],
            "needs_background": "light"
          }
        },
        {
          "output_type": "display_data",
          "data": {
            "image/png": "[encoded data removed]",
            "text/plain": [
              "<Figure size 432x288 with 1 Axes>"
            ]
          },
          "metadata": {
            "tags": [],
            "needs_background": "light"
          }
        },
        {
          "output_type": "display_data",
          "data": {
            "image/png": "[encoded data removed]",
            "text/plain": [
              "<Figure size 432x288 with 1 Axes>"
            ]
          },
          "metadata": {
            "tags": [],
            "needs_background": "light"
          }
        },
        {
          "output_type": "display_data",
          "data": {
            "image/png": "[encoded data removed]",
            "text/plain": [
              "<Figure size 432x288 with 1 Axes>"
            ]
          },
          "metadata": {
            "tags": [],
            "needs_background": "light"
          }
        },
        {
          "output_type": "display_data",
          "data": {
            "image/png": "[encoded data removed]",
            "text/plain": [
              "<Figure size 432x288 with 1 Axes>"
            ]
          },
          "metadata": {
            "tags": [],
            "needs_background": "light"
          }
        },
        {
          "output_type": "display_data",
          "data": {
            "image/png": "[encoded data removed]",
            "text/plain": [
              "<Figure size 432x288 with 1 Axes>"
            ]
          },
          "metadata": {
            "tags": [],
            "needs_background": "light"
          }
        },
        {
          "output_type": "display_data",
          "data": {
            "image/png": "[encoded data removed]",
            "text/plain": [
              "<Figure size 432x288 with 1 Axes>"
            ]
          },
          "metadata": {
            "tags": [],
            "needs_background": "light"
          }
        }
      ]
    },
    {
      "cell_type": "code",
      "metadata": {
        "id": "UctyGnHB4BOH"
      },
      "source": [
        "def data_processing(original_data):\n",
        "  data = original_data.copy(deep=True)\n",
        "  #Drop Sat. score because it completely decides whether the customer will be churn or not\n",
        "  data.drop(\"Satisfaction Score\",axis=1,inplace=True)\n",
        "  #drop features with var = 0\n",
        "  for col in data.columns:\n",
        "    if data[col].unique().shape[0]==1:\n",
        "      data.drop(col,axis=1,inplace=True)\n",
        "  \n",
        "  #Drop City because it has 1400s unique values and we can't really handle that\n",
        "  data.drop(\"City\",axis=1,inplace=True)\n",
        "  #Churn Label is just Churn Value with Yes = 1, No = 0\n",
        "  data.drop(\"Churn Label\",axis=1,inplace=True)\n",
        "  #Irrelevant to the model\n",
        "  data.drop(\"Customer ID\",axis=1,inplace=True)\n",
        "  data.drop(\"CustomerID\",axis=1,inplace=True)\n",
        "  #Zip code,ID for zip code; again, irrelevant\n",
        "  data.drop(\"ID\",axis=1,inplace=True)\n",
        "  data.drop(\"Zip Code\",axis=1,inplace=True)\n",
        "  #Redundant since there's both Latitude and Longtitude in the dataset\n",
        "  data.drop(\"Lat Long\",axis=1,inplace=True)\n",
        "  #Customer Status just clarifies the status churned/not churned\n",
        "  data.drop(\"Customer Status\",axis=1,inplace=True)\n",
        "  #Same as Tenure Months\n",
        "  data.drop(\"Tenure in Months\",axis=1,inplace=True)\n",
        "  #Same as Married\n",
        "  data.drop(\"Partner\",axis=1,inplace=True)\n",
        "  #Redundant since we have Number of Referrals\n",
        "  data.drop(\"Referred a Friend\",axis=1,inplace=True)\n",
        "  #Same as Device Protection\n",
        "  data.drop(\"Device Protection Plan\",axis=1,inplace=True)\n",
        "  #Same as Tech Support\n",
        "  data.drop(\"Premium Tech Support\",axis=1,inplace=True)\n",
        "  #Same as Monthly Charges\n",
        "  data.drop(\"Monthly Charge\",axis=1,inplace=True)\n",
        "  #Same as Total Charges\n",
        "  data.drop(\"Total Revenue\",axis=1,inplace=True)\n",
        "  #Redundant since we have Number of Dependents\n",
        "  data.drop(\"Dependents\",axis=1,inplace=True)\n",
        "\n",
        "  #The difference of internet service and type is just that if the type is dsl then the service is cable\n",
        "  #Drop service because there's less info\n",
        "  data.drop(\"Internet Service\",axis=1,inplace=True)\n",
        "\n",
        "  #This is another model output? we're not doing ensemble learning here\n",
        "  data.drop(\"Churn Score\",axis=1,inplace=True)\n",
        "  #Services have 3 values : yes, no, no internet/no => merge with no\n",
        "  service_cols = [\n",
        "              \"Online Security\",\n",
        "              \"Online Backup\",\n",
        "              \"Device Protection\",\n",
        "              \"Tech Support\",\n",
        "              \"Streaming TV\",\n",
        "              \"Streaming Movies\",\n",
        "              \"Payment Method\",\n",
        "              ]\n",
        "  for col in service_cols:\n",
        "    data[col]=data[col].replace(\"No\", 0).replace(\"Yes\", 1).replace(\"No internet service\", 0)\n",
        "  #Multiple Lines has 3 values, same procedure as Services\n",
        "  data[\"Multiple Lines\"]=data[\"Multiple Lines\"].replace(\"No\", 0).replace(\"Yes\", 1).replace(\"No phone service\", 0)\n",
        "  #Yes/No Columns, Yes = 1 / No = 0\n",
        "  binary_cols=[\"Senior Citizen\",\n",
        "              \"Paperless Billing\",\n",
        "              \"Under 30\",\n",
        "              \"Married\",\n",
        "              \"Streaming Music\",\n",
        "              \"Unlimited Data\",\n",
        "              \"Phone Service\",\n",
        "              \"Multiple Lines\",\n",
        "              ]\n",
        "  for col in binary_cols:\n",
        "    data[col]=data[col].replace(\"No\", 0).replace(\"Yes\", 1)\n",
        "  #No offense with this\n",
        "  data[\"Gender\"]=data[\"Gender\"].replace(\"Female\", 0).replace(\"Male\", 1)\n",
        "\n",
        "  #These we just decide to one-hot-encode\n",
        "  dummy_cols=[\"Payment Method\", #4 values\n",
        "            \"Offer\",            #5 values\n",
        "            \"Internet Type\",    #3 values\n",
        "            ]\n",
        "  data = pd.get_dummies(data, columns=dummy_cols)\n",
        "\n",
        "  #Label encode contract to it's length\n",
        "  data['Contract'] = data['Contract'].replace(\"Month-to-month\", 1).replace(\"One year\", 12).replace(\"Two year\", 24)\n",
        "\n",
        "  #Drop these rows with these reasons because it could be considered outliers\n",
        "  #Also because it would be illogical for the model to learn based on these samples\n",
        "  data.drop(data[data[\"Churn Reason\"]==\"Moved\"].index,inplace=True)\n",
        "  data.drop(data[data[\"Churn Reason\"]==\"Deceased\"].index,inplace=True)\n",
        "  #We actually thought of using these but due to the lack of time ...\n",
        "  reason = data.pop(\"Churn Reason\")\n",
        "  category = data.pop(\"Churn Category\")\n",
        "  return data"
      ],
      "execution_count": null,
      "outputs": []
    },
    {
      "cell_type": "code",
      "metadata": {
        "id": "1B21S4mfPuQg"
      },
      "source": [
        "data = data_processing(original_data)"
      ],
      "execution_count": null,
      "outputs": []
    },
    {
      "cell_type": "code",
      "metadata": {
        "id": "nqAveGhxjbJP"
      },
      "source": [
        "def split_data(data_in):\n",
        "  data = data_in.copy(deep=True)\n",
        "  target = data.pop(\"Churn Value\")\n",
        "  from sklearn.model_selection import train_test_split\n",
        "  #Split train, test to be 0.7:0.3\n",
        "  #Stratified with class label ratio\n",
        "  X_train, X_test, y_train, y_test = train_test_split (data,target,test_size=0.3, random_state=123)\n",
        "  return X_train, X_test, y_train, y_test"
      ],
      "execution_count": null,
      "outputs": []
    },
    {
      "cell_type": "code",
      "metadata": {
        "id": "cSrzBG52jj6s"
      },
      "source": [
        "X_train, X_test, y_train, y_test= split_data(data)"
      ],
      "execution_count": null,
      "outputs": []
    },
    {
      "cell_type": "code",
      "metadata": {
        "id": "coGV28fVmIn5"
      },
      "source": [
        "def plot_correlation(absolute=True):\n",
        "  #absolute will plot out the absolute pearson coefficient of each feature to Churn\n",
        "  churn_correlation_data = X_train.copy(deep=True)\n",
        "  churn_correlation_data[\"Churn Value\"]=y_train\n",
        "  plt.figure(figsize=(15,10))\n",
        "  if absolute:\n",
        "    abs(churn_correlation_data.corr()['Churn Value']).sort_values(ascending = False).plot(kind='barh')\n",
        "  else:\n",
        "    churn_correlation_data.corr()['Churn Value'].sort_values(ascending = False).plot(kind='bar')\n",
        "  "
      ],
      "execution_count": null,
      "outputs": []
    },
    {
      "cell_type": "code",
      "metadata": {
        "id": "1b5JqmbNmK3M"
      },
      "source": [
        "def correlated_pair(dataset, threshold=0.7):\n",
        "  correlated_col = list()\n",
        "  # correlation matrix\n",
        "  corr_matrix = dataset.corr()\n",
        "  for i in range(len(corr_matrix)):\n",
        "    for j in range(i):\n",
        "      if abs(corr_matrix.iloc[i, j]) > threshold: # add to correlated_col if correlation > threshold\n",
        "        pair = [corr_matrix.columns[i], corr_matrix.columns[j]]\n",
        "        correlated_col.append(pair)\n",
        "  return correlated_col"
      ],
      "execution_count": null,
      "outputs": []
    },
    {
      "cell_type": "code",
      "metadata": {
        "colab": {
          "base_uri": "https://localhost:8080/"
        },
        "id": "3OVdbU4YmQOJ",
        "outputId": "eb7f1809-8c67-43e0-a2d3-ba34a6919d16"
      },
      "source": [
        "correlated_pair(X_train,0.7)"
      ],
      "execution_count": null,
      "outputs": [
        {
          "output_type": "execute_result",
          "data": {
            "text/plain": [
              "[['Longitude', 'Latitude'],\n",
              " ['Total Charges', 'Tenure Months'],\n",
              " ['Streaming Music', 'Streaming Movies'],\n",
              " ['Internet Type_Fiber Optic', 'Monthly Charges'],\n",
              " ['Internet Type_None', 'Monthly Charges'],\n",
              " ['Internet Type_None', 'Unlimited Data']]"
            ]
          },
          "metadata": {
            "tags": []
          },
          "execution_count": 27
        }
      ]
    },
    {
      "cell_type": "code",
      "metadata": {
        "id": "UGLu8Pb0mTnZ"
      },
      "source": [
        "def mutual_info_plot(): \n",
        "  #This isn't deterministic and we actually forgot the random state of the plot in the report\n",
        "  #Really sorry for this inconvinience\n",
        "  from sklearn.feature_selection import mutual_info_classif\n",
        "  # determine the mutual information\n",
        "  mutual_info = mutual_info_classif(X_train, y_train)\n",
        "\n",
        "  mutual_info = pd.Series(mutual_info)\n",
        "  mutual_info.index = X_train.columns\n",
        "  plt.figure(figsize=(15,10))\n",
        "  mutual_info.sort_values(ascending=False).plot(kind='barh')"
      ],
      "execution_count": null,
      "outputs": []
    },
    {
      "cell_type": "code",
      "metadata": {
        "colab": {
          "base_uri": "https://localhost:8080/",
          "height": 452
        },
        "id": "LmK3bt6krt1S",
        "outputId": "8cff6c84-c808-41af-cf96-96d404ade3a0"
      },
      "source": [
        "mutual_info_plot()"
      ],
      "execution_count": null,
      "outputs": [
        {
          "output_type": "display_data",
          "data": {
            "image/png": "[encoded data removed]",
            "text/plain": [
              "<Figure size 1080x720 with 1 Axes>"
            ]
          },
          "metadata": {
            "tags": [],
            "needs_background": "light"
          }
        }
      ]
    },
    {
      "cell_type": "code",
      "metadata": {
        "id": "HdD6S983nep9"
      },
      "source": [
        "def feature_selection(X_train, X_test, y_train, y_test):\n",
        "  def X_drop(col):\n",
        "    X_train.drop(col,axis=1,inplace=True)\n",
        "    X_test.drop(col,axis=1,inplace=True)\n",
        "\n",
        "  X_drop(\"Total Refunds\")\n",
        "  X_drop(\"Streaming Music\")\n",
        "  X_drop(\"Streaming Movies\")\n",
        "  X_drop(\"Streaming TV\")\n",
        "  X_drop(\"Online Backup\")\n",
        "  X_drop(\"Device Protection\")\n",
        "  X_drop(\"Latitude\")\n",
        "  X_drop(\"Monthly Charges\")\n",
        "  X_drop(\"Total Charges\")\n",
        "\n",
        "  from sklearn.preprocessing import PowerTransformer\n",
        "  power = PowerTransformer()\n",
        "\n",
        "  X_train_transformed = power.fit_transform(X_train)\n",
        "  X_test_transformed = power.fit_transform(X_test)\n",
        "\n",
        "  from sklearn.preprocessing import MinMaxScaler\n",
        "  scaler=MinMaxScaler()\n",
        "\n",
        "  X_train_scaled = scaler.fit_transform(X_train_transformed)\n",
        "  X_train_scaled = pd.DataFrame(X_train_scaled, columns=X_train.columns,index= X_train.index)\n",
        "  X_test_scaled = scaler.fit_transform(X_test_transformed)\n",
        "  X_test_scaled = pd.DataFrame(X_test_scaled, columns=X_test.columns,index= X_test.index)\n",
        "\n",
        "  CLTV_train = X_train.pop(\"CLTV\")\n",
        "  CLTV_train = pd.DataFrame(CLTV_train,index= X_train.index)\n",
        "\n",
        "  CLTV_test=X_test.pop(\"CLTV\")\n",
        "  CLTV_test = pd.DataFrame(CLTV_test,index= X_test.index)\n",
        "\n",
        "  CLTV_train_scaled = X_train_scaled[\"CLTV\"]\n",
        "\n",
        "  CLTV_test_scaled = X_test_scaled[\"CLTV\"]\n",
        "\n",
        "  return (X_train_scaled,X_test_scaled,y_train,y_test,CLTV_train_scaled,CLTV_test_scaled,CLTV_test)"
      ],
      "execution_count": null,
      "outputs": []
    },
    {
      "cell_type": "code",
      "metadata": {
        "id": "P0fyWYYsRGjr"
      },
      "source": [
        "(X_train_scaled,X_test_scaled,\n",
        " y_train,y_test,\n",
        " CLTV_train_scaled,CLTV_test_scaled,CLTV_test) = feature_selection(X_train, X_test,\n",
        "                                                                   y_train, y_test)"
      ],
      "execution_count": null,
      "outputs": []
    },
    {
      "cell_type": "code",
      "metadata": {
        "colab": {
          "base_uri": "https://localhost:8080/"
        },
        "id": "Q91gtqUIJ8M-",
        "outputId": "a70cf44e-727c-47df-90b5-6be3fbec676b"
      },
      "source": [
        "X_train.info()"
      ],
      "execution_count": null,
      "outputs": [
        {
          "output_type": "stream",
          "text": [
            "<class 'pandas.core.frame.DataFrame'>\n",
            "Int64Index: 4888 entries, 2432 to 3626\n",
            "Data columns (total 35 columns):\n",
            " #   Column                                    Non-Null Count  Dtype  \n",
            "---  ------                                    --------------  -----  \n",
            " 0   Longitude                                 4888 non-null   float64\n",
            " 1   Gender                                    4888 non-null   int64  \n",
            " 2   Senior Citizen                            4888 non-null   int64  \n",
            " 3   Tenure Months                             4888 non-null   float64\n",
            " 4   Phone Service                             4888 non-null   int64  \n",
            " 5   Multiple Lines                            4888 non-null   int64  \n",
            " 6   Online Security                           4888 non-null   int64  \n",
            " 7   Tech Support                              4888 non-null   int64  \n",
            " 8   Contract                                  4888 non-null   int64  \n",
            " 9   Paperless Billing                         4888 non-null   int64  \n",
            " 10  Age                                       4888 non-null   float64\n",
            " 11  Under 30                                  4888 non-null   int64  \n",
            " 12  Married                                   4888 non-null   int64  \n",
            " 13  Number of Dependents                      4888 non-null   float64\n",
            " 14  Number of Referrals                       4888 non-null   float64\n",
            " 15  Avg Monthly Long Distance Charges         4888 non-null   float64\n",
            " 16  Avg Monthly GB Download                   4888 non-null   float64\n",
            " 17  Unlimited Data                            4888 non-null   int64  \n",
            " 18  Total Extra Data Charges                  4888 non-null   float64\n",
            " 19  Total Long Distance Charges               4888 non-null   float64\n",
            " 20  Population                                4888 non-null   int64  \n",
            " 21  Payment Method_Bank transfer (automatic)  4888 non-null   uint8  \n",
            " 22  Payment Method_Credit card (automatic)    4888 non-null   uint8  \n",
            " 23  Payment Method_Electronic check           4888 non-null   uint8  \n",
            " 24  Payment Method_Mailed check               4888 non-null   uint8  \n",
            " 25  Offer_None                                4888 non-null   uint8  \n",
            " 26  Offer_Offer A                             4888 non-null   uint8  \n",
            " 27  Offer_Offer B                             4888 non-null   uint8  \n",
            " 28  Offer_Offer C                             4888 non-null   uint8  \n",
            " 29  Offer_Offer D                             4888 non-null   uint8  \n",
            " 30  Offer_Offer E                             4888 non-null   uint8  \n",
            " 31  Internet Type_Cable                       4888 non-null   uint8  \n",
            " 32  Internet Type_DSL                         4888 non-null   uint8  \n",
            " 33  Internet Type_Fiber Optic                 4888 non-null   uint8  \n",
            " 34  Internet Type_None                        4888 non-null   uint8  \n",
            "dtypes: float64(9), int64(12), uint8(14)\n",
            "memory usage: 907.0 KB\n"
          ],
          "name": "stdout"
        }
      ]
    },
    {
      "cell_type": "markdown",
      "metadata": {
        "id": "khTG7thGgY0X"
      },
      "source": [
        "# Resampling"
      ]
    },
    {
      "cell_type": "code",
      "metadata": {
        "id": "qiOKG9ExnAmZ"
      },
      "source": [
        "\n",
        "def resample(X_train_scaled, y_train,CLTV_train_scaled,method):\n",
        "  def smoteNC(X_train_scaled, y_train):\n",
        "  \n",
        "    from imblearn.over_sampling import SMOTENC\n",
        "    columns_list = list(range(len(X_train_scaled.columns)))\n",
        "    numerical_list = [0,3,10,15,16,18,19,20]\n",
        "    categorical_list = [x for x in columns_list if x not in numerical_list]\n",
        "    smt=SMOTENC(random_state = 123,n_jobs=-1,categorical_features=categorical_list)\n",
        "    return smt.fit_resample(X_train_scaled,y_train)\n",
        "  def randomOverSampler(X_train_scaled, y_train):\n",
        "    from imblearn.over_sampling import RandomOverSampler\n",
        "    ros = RandomOverSampler(random_state = 123)\n",
        "    return ros.fit_resample(X_train_scaled,y_train)\n",
        "\n",
        "  def randomUnderSampler(X_train_scaled, y_train):\n",
        "    from imblearn.under_sampling import RandomUnderSampler\n",
        "    rus = RandomUnderSampler(random_state = 123)\n",
        "    return rus.fit_resample(X_train_scaled,y_train)\n",
        "\n",
        "  def tomekLinks(X_train_scaled, y_train):\n",
        "    from imblearn.under_sampling import TomekLinks\n",
        "    tl = TomekLinks([0],n_jobs=-1)\n",
        "    return tl.fit_resample(X_train_scaled,y_train)\n",
        "\n",
        "  if method == \"CLTV\":\n",
        "    X_resampled1, y_resampled1 = CLTVsmoteNC(X_train_scaled, y_train,CLTV_train_scaled)\n",
        "    X_resampled1 = pd.DataFrame(X_resampled1, columns=X_train_scaled.columns.to_list()+[\"CLTV\"])\n",
        "    X_resampled2, y_resampled2 = tomekLinks(X_resampled1, y_resampled1)\n",
        "    X_resampled2 = pd.DataFrame(X_resampled2, columns=X_train_scaled.columns.to_list()+[\"CLTV\"])\n",
        "    return X_resampled2, y_resampled2\n",
        "\n",
        "  if method == \"smote\": \n",
        "    X_resampled, y_resampled = smoteNC(X_train_scaled, y_train)\n",
        "    X_resampled = pd.DataFrame(X_resampled, columns=X_train_scaled.columns)\n",
        "    return X_resampled, y_resampled\n",
        "\n",
        "  if method == \"over_random\": \n",
        "    X_resampled, y_resampled = randomOverSampler(X_train_scaled, y_train)\n",
        "    X_resampled = pd.DataFrame(X_resampled, columns=X_train_scaled.columns)\n",
        "    return X_resampled, y_resampled\n",
        "\n",
        "  if method == \"under_random\": \n",
        "    X_resampled, y_resampled = randomUnderSampler(X_train_scaled, y_train)\n",
        "    X_resampled = pd.DataFrame(X_resampled, columns=X_train_scaled.columns)\n",
        "    return X_resampled, y_resampled    \n",
        "\n",
        "  if method == \"tomek\": \n",
        "    X_resampled, y_resampled = tomekLinks(X_train_scaled, y_train)\n",
        "    X_resampled = pd.DataFrame(X_resampled, columns=X_train_scaled.columns)\n",
        "    return X_resampled, y_resampled\n",
        "  if method == \"hybrid\":\n",
        "    X_resampled1, y_resampled1 = smoteNC(X_train_scaled, y_train)\n",
        "    X_resampled1 = pd.DataFrame(X_resampled1, columns=X_train_scaled.columns)\n",
        "    X_resampled2, y_resampled2 = tomekLinks(X_resampled1, y_resampled1)\n",
        "    X_resampled2 = pd.DataFrame(X_resampled2, columns=X_train_scaled.columns)\n",
        "    return X_resampled2, y_resampled2"
      ],
      "execution_count": null,
      "outputs": []
    },
    {
      "cell_type": "markdown",
      "metadata": {
        "id": "MI7yZR83Dipj"
      },
      "source": [
        "The method parameter takes in:\n",
        "*   \"tomek\"\n",
        "*   \"under_random\"\n",
        "*   \"over_random\"\n",
        "*   \"smote\"\n",
        "*   \"hybrid\"\n",
        "\n",
        "For each sampling method respectively\n",
        "\n"
      ]
    },
    {
      "cell_type": "code",
      "metadata": {
        "id": "3N2cvWa6X4Vl"
      },
      "source": [
        "\n",
        "X_resampled, y_resampled= resample(X_train_scaled,\n",
        "                                   y_train,\n",
        "                                   CLTV_train_scaled=CLTV_train_scaled,\n",
        "                                   method=\"hybrid\"\n",
        "                                  )\n",
        "CLTV = X_resampled[\"CLTV\"]\n"
      ],
      "execution_count": null,
      "outputs": []
    },
    {
      "cell_type": "code",
      "metadata": {
        "id": "uXPhh-tCs-Wp",
        "colab": {
          "base_uri": "https://localhost:8080/"
        },
        "outputId": "cd29d44e-048c-4cb4-9256-19270a9668a9"
      },
      "source": [
        "from collections import Counter\n",
        "Counter(y_resampled)"
      ],
      "execution_count": null,
      "outputs": [
        {
          "output_type": "execute_result",
          "data": {
            "text/plain": [
              "Counter({0.0: 3329, 1.0: 1258})"
            ]
          },
          "metadata": {
            "tags": []
          },
          "execution_count": 118
        }
      ]
    },
    {
      "cell_type": "markdown",
      "metadata": {
        "id": "vc0XuIwbgnYY"
      },
      "source": [
        "# Define Scorer / Model Result"
      ]
    },
    {
      "cell_type": "code",
      "metadata": {
        "id": "JjCCpnWwNzux"
      },
      "source": [
        "from sklearn.metrics import confusion_matrix\n",
        "def get_fn_cltv(y_test,y_hat_test):\n",
        "  fn = np.logical_and(y_test != y_hat_test, y_hat_test == 0)\n",
        "  return float(CLTV_test[fn].sum())\n",
        "def get_fp_cltv(y_test,y_hat_test):\n",
        "  fp = np.logical_and(y_test != y_hat_test, y_hat_test == 1)\n",
        "  return float(CLTV_test[fp].sum())\n",
        "confusion_matrix\n",
        "def show_model_gs(gs_instance, X_test_scaled, y_test):\n",
        "  from sklearn.metrics import accuracy_score\n",
        "  from sklearn.metrics import precision_recall_fscore_support\n",
        "  from sklearn.metrics import classification_report\n",
        "  y_hat_test = gs_instance.predict(X_test_scaled)\n",
        "  cm=confusion_matrix(y_test,y_hat_test)\n",
        "  conf_matrix=pd.DataFrame(data=cm,columns=['Predicted:0','Predicted:1'],index=['Actual:0','Actual:1'])\n",
        "  plt.figure(figsize = (6,4))\n",
        "  sns.heatmap(conf_matrix, annot=True,fmt='d',cmap=\"YlGnBu\")\n",
        "  print(\"Best Cross-Validation Score: %f using %s\" % (gs_instance.best_score_, gs_instance.best_params_))\n",
        "  print(classification_report(y_hat_test, y_test))\n",
        "\n",
        "def show_model_gs_cltv(gs_instance, X_test_scaled, y_test):\n",
        "  from sklearn.metrics import accuracy_score\n",
        "  from sklearn.metrics import precision_recall_fscore_support\n",
        "  from sklearn.metrics import classification_report\n",
        "  y_hat_test = gs_instance.predict(X_test_scaled)\n",
        "  cm=confusion_matrix(y_test,y_hat_test)\n",
        "  conf_matrix=pd.DataFrame(data=cm,columns=['Predicted:0','Predicted:1'],index=['Actual:0','Actual:1'])\n",
        "  plt.figure(figsize = (6,4))\n",
        "  sns.heatmap(conf_matrix, annot=True,fmt='d',cmap=\"YlGnBu\")\n",
        "  print(\"Best: %f using %s\" % (gs_instance.best_score_, gs_instance.best_params_))\n",
        "  print(classification_report(y_hat_test, y_test))\n",
        "  fn = get_fn_cltv(y_test,y_hat_test)\n",
        "  fp = get_fp_cltv(y_test,y_hat_test)\n",
        "  s1 = fn+fp\n",
        "  s2 = 5*fn +fp\n",
        "  print(\"CLTV FP: %f | FN: %f \" %(fp,fn))\n",
        "  print(\"Sum: %f1 |Weighted Sum: %f \" %(s1,s2))\n",
        "  \n",
        "def show_model_rfe(rfe_instance, X_test_scaled, y_test):\n",
        "  from sklearn.metrics import accuracy_score\n",
        "  from sklearn.metrics import precision_recall_fscore_support\n",
        "  from sklearn.metrics import classification_report\n",
        "  selector_prediction= rfe_instance.predict(X_test_scaled)\n",
        "  cm=confusion_matrix(y_test,rfe_instance.predict(X_test_scaled))\n",
        "  conf_matrix=pd.DataFrame(data=cm,columns=['Predicted:0','Predicted:1'],index=['Actual:0','Actual:1'])\n",
        "  plt.figure(figsize = (6,4))\n",
        "  sns.heatmap(conf_matrix, annot=True,fmt='d',cmap=\"YlGnBu\")\n",
        "  print(\"Feature eliminated : \"+ str(np.count_nonzero(rfe_result.ranking_-1)))\n",
        "  print(classification_report(selector_prediction, y_test))\n"
      ],
      "execution_count": null,
      "outputs": []
    },
    {
      "cell_type": "code",
      "metadata": {
        "id": "Ki3V4NzXoqC-"
      },
      "source": [
        "#Scoring func.\n",
        "from sklearn.metrics import make_scorer\n",
        "from sklearn.metrics import fbeta_score\n",
        "from sklearn.utils.class_weight import compute_sample_weight\n",
        "#Make scoring function of F-Beta with Beta = 5\n",
        "def f_beta_5(y_true, y_pred, **kwargs):\n",
        "  return fbeta_score(y_true,y_pred,\n",
        "                     beta=5)\n",
        "f_beta_5_scorer = make_scorer(f_beta_5)\n",
        "#Make scoring function of F-Beta with Beta = 5 and sample weight according to CLTV feature\n",
        "def cltv_weighted_f_beta_5(y_true, y_pred, **kwargs):\n",
        "    cltv_weight=CLTV.loc[y_true.index.values].values.reshape(-1)\n",
        "    return fbeta_score(y_true,y_pred,beta=5, sample_weight=cltv_weight)\n",
        "cltv_weighted_f_beta_5_scorer = make_scorer(cltv_weighted_f_beta_5)"
      ],
      "execution_count": null,
      "outputs": []
    },
    {
      "cell_type": "markdown",
      "metadata": {
        "id": "7sQuqJt8gwlz"
      },
      "source": [
        "# Logistic Regression Model"
      ]
    },
    {
      "cell_type": "code",
      "metadata": {
        "id": "AGykXMegouw3"
      },
      "source": [
        "def lr(X_train_scaled, y_train,class_weighted=False,score_weight = False ,cltv_weighted=False,default=True):\n",
        "  from sklearn.model_selection import RepeatedStratifiedKFold\n",
        "  from sklearn.model_selection import GridSearchCV\n",
        "  from sklearn.linear_model import LogisticRegression\n",
        "  from sklearn.model_selection import ParameterGrid\n",
        "  #grid search\n",
        "  if class_weighted:\n",
        "    model_gs = LogisticRegression(max_iter=600,\n",
        "                                  class_weight='balanced',\n",
        "                                  )\n",
        "  else:     \n",
        "    model_gs = LogisticRegression(max_iter=600,\n",
        "                                  # class_weight='balanced',\n",
        "                                  )\n",
        "  \n",
        "  # define grid search\n",
        "  solvers = ['newton-cg', 'lbfgs', 'liblinear']\n",
        "  penalty = ['l2']\n",
        "  c_values = [10000,1000,100, 10, 1.0, 0.1, 0.01]\n",
        "  grid = dict(solver=solvers,penalty=penalty,C=c_values)\n",
        "  \n",
        "  cv = RepeatedStratifiedKFold(n_splits=10, n_repeats=3, random_state=123)\n",
        "  if cltv_weighted:\n",
        "    grid_search = GridSearchCV(estimator=model_gs,\n",
        "                              param_grid=(grid),\n",
        "                              n_jobs=-1,\n",
        "                              cv=cv,\n",
        "                              scoring=cltv_weighted_f_beta_5_scorer,\n",
        "                              error_score='raise',\n",
        "                              verbose=2,)\n",
        "    grid_result = grid_search.fit(X_train_scaled, y_train,\n",
        "                                sample_weight = CLTV\n",
        "                                )\n",
        "    return grid_result\n",
        "  if score_weight:\n",
        "    grid_search = GridSearchCV(estimator=model_gs,\n",
        "                          param_grid=(grid),\n",
        "                          n_jobs=-1,\n",
        "                          cv=cv,\n",
        "                          scoring=f_beta_5_scorer,\n",
        "                          error_score='raise',\n",
        "                          verbose=2,)\n",
        "  if default:\n",
        "        grid_search = GridSearchCV(estimator=model_gs,\n",
        "                          param_grid=(grid),\n",
        "                          n_jobs=-1,\n",
        "                          cv=cv,\n",
        "                          scoring=\"f1\",\n",
        "                          error_score='raise',\n",
        "                          verbose=2,)\n",
        "  grid_result = grid_search.fit(X_train_scaled, y_train,\n",
        "                                # sample_weight = CLTV_train_scaled\n",
        "                                )\n",
        "  return grid_result"
      ],
      "execution_count": null,
      "outputs": []
    },
    {
      "cell_type": "markdown",
      "metadata": {
        "id": "UkQ9w_hRoOxO"
      },
      "source": [
        "In the lr function, there're some boolean parameter:\n",
        "*   class_weighted: set class_weight parameter = 'balanced'\n",
        "*   score_weight: set scorer to f-5\n",
        "*   cltv_weighted: set gridsearch to evaluate CLTV models\n",
        "*   default: set scorer to f-1\n",
        "\n",
        "\n",
        "\n"
      ]
    },
    {
      "cell_type": "code",
      "metadata": {
        "colab": {
          "base_uri": "https://localhost:8080/"
        },
        "id": "EKYNYZmzUrdX",
        "outputId": "5f14c4da-71a6-4f1e-c73e-235caea8a5b4"
      },
      "source": [
        "grid_lr_result=lr(X_resampled,\n",
        "                  y_resampled,\n",
        "                  # class_weighted=True,\n",
        "                  score_weight = True,\n",
        "                  # cltv_weighted =True,\n",
        "                  default=False\n",
        "                  )"
      ],
      "execution_count": null,
      "outputs": [
        {
          "output_type": "stream",
          "text": [
            "Fitting 30 folds for each of 21 candidates, totalling 630 fits\n"
          ],
          "name": "stdout"
        }
      ]
    },
    {
      "cell_type": "code",
      "metadata": {
        "colab": {
          "base_uri": "https://localhost:8080/",
          "height": 483
        },
        "id": "URF6Gmgmo2DP",
        "outputId": "4d25e99b-6c5b-4cd2-8916-62f08e5cfd85"
      },
      "source": [
        "show_model_gs_cltv(grid_lr_result, X_test_scaled, y_test)"
      ],
      "execution_count": null,
      "outputs": [
        {
          "output_type": "stream",
          "text": [
            "Best: 0.884800 using {'C': 1.0, 'penalty': 'l2', 'solver': 'liblinear'}\n",
            "              precision    recall  f1-score   support\n",
            "\n",
            "         0.0       0.81      0.90      0.85      1385\n",
            "         1.0       0.75      0.58      0.66       711\n",
            "\n",
            "    accuracy                           0.79      2096\n",
            "   macro avg       0.78      0.74      0.75      2096\n",
            "weighted avg       0.79      0.79      0.79      2096\n",
            "\n",
            "CLTV FP: 1220919.000000 | FN: 593150.000000 \n",
            "Sum: 1814069.0000001 |Weighted Sum: 4186669.000000 \n"
          ],
          "name": "stdout"
        },
        {
          "output_type": "display_data",
          "data": {
            "image/png": "[encoded data removed]",
            "text/plain": [
              "<Figure size 432x288 with 2 Axes>"
            ]
          },
          "metadata": {
            "tags": [],
            "needs_background": "light"
          }
        }
      ]
    },
    {
      "cell_type": "code",
      "metadata": {
        "id": "_LyHyaQfkEqc"
      },
      "source": [
        "def plot_coeff(gs_instance):\n",
        "  weights = pd.Series(gs_instance.best_estimator_.coef_[0],\n",
        "                  index=X_train_scaled.columns)\n",
        "\n",
        "  plt.figure(figsize=(30, 10))\n",
        "  plt.subplot(1, 2, 1)\n",
        "  # show features negatively affecting churn - based on LR coefficients\n",
        "  weights.sort_values(ascending = False).plot(kind='barh')"
      ],
      "execution_count": null,
      "outputs": []
    },
    {
      "cell_type": "code",
      "metadata": {
        "id": "R0IaG-x-5lPt",
        "colab": {
          "base_uri": "https://localhost:8080/",
          "height": 496
        },
        "outputId": "9d19c6b9-5c93-4303-a1dc-e9eabc0c011a"
      },
      "source": [
        "plot_coeff(grid_lr_result)"
      ],
      "execution_count": null,
      "outputs": [
        {
          "output_type": "display_data",
          "data": {
            "image/png": "[encoded data removed]",
            "text/plain": [
              "<Figure size 2160x720 with 1 Axes>"
            ]
          },
          "metadata": {
            "tags": []
          }
        }
      ]
    },
    {
      "cell_type": "markdown",
      "metadata": {
        "id": "dCuA25QXha_k"
      },
      "source": [
        "# SVM Model"
      ]
    },
    {
      "cell_type": "code",
      "metadata": {
        "id": "I7JGjee5wEUn"
      },
      "source": [
        "def svm(X_train_scaled, y_train,class_weighted=False,score_weight = False,cltv_weighted=False,default=True):\n",
        "  from sklearn.svm import SVC\n",
        "  from sklearn.model_selection import GridSearchCV\n",
        "  from sklearn.model_selection import RepeatedStratifiedKFold\n",
        "  from sklearn.model_selection import ParameterGrid\n",
        "  # defining parameter range \n",
        "  kernels = ['rbf', 'sigmoid']\n",
        "  gamma = [100,10,1, 0.01, 0.0001]\n",
        "  c_values = [1000,100,10]\n",
        "  if class_weighted:\n",
        "    model_gs = SVC(\n",
        "                  class_weight='balanced',\n",
        "                  )\n",
        "  else:     \n",
        "    model_gs = SVC(\n",
        "                  # class_weight='balanced',\n",
        "                  )\n",
        "  grid = dict(kernel=kernels,gamma=gamma,C=c_values)\n",
        "\n",
        "  cv = RepeatedStratifiedKFold(n_splits=10, n_repeats=3, random_state=123)\n",
        "  if cltv_weighted:\n",
        "    grid_search = GridSearchCV(estimator=model_gs,\n",
        "                              param_grid=(grid),\n",
        "                              n_jobs=-1,\n",
        "                              cv=cv,\n",
        "                              scoring=cltv_weighted_f_beta_5_scorer,\n",
        "                              error_score='raise',\n",
        "                              verbose=2,)\n",
        "    grid_result = grid_search.fit(X_train_scaled, y_train,\n",
        "                                sample_weight = CLTV\n",
        "                                )\n",
        "    return grid_result\n",
        "  if score_weight:\n",
        "    grid_search = GridSearchCV(estimator=model_gs,\n",
        "                          param_grid=(grid),\n",
        "                          n_jobs=-1,\n",
        "                          cv=cv,\n",
        "                          scoring=f_beta_5_scorer,\n",
        "                          error_score='raise',\n",
        "                          verbose=2,)\n",
        "  if default:\n",
        "        grid_search = GridSearchCV(estimator=model_gs,\n",
        "                          param_grid=(grid),\n",
        "                          n_jobs=-1,\n",
        "                          cv=cv,\n",
        "                          scoring=\"f1\",\n",
        "                          error_score='raise',\n",
        "                          verbose=2,)\n",
        "  grid_result = grid_search.fit(X_train_scaled, y_train,\n",
        "                                # sample_weight = CLTV_train_scaled\n",
        "                                )\n",
        "  return grid_result\n",
        "\n",
        "\n"
      ],
      "execution_count": null,
      "outputs": []
    },
    {
      "cell_type": "markdown",
      "metadata": {
        "id": "4EK9GALCp20j"
      },
      "source": [
        "In the svm function, there're some boolean parameter:\n",
        "*   class_weighted: set class_weight parameter = 'balanced'\n",
        "*   score_weight: set scorer to f-5\n",
        "*   cltv_weighted: set gridsearch to evaluate CLTV models\n",
        "*   default: set scorer to f-1\n",
        "\n"
      ]
    },
    {
      "cell_type": "code",
      "metadata": {
        "colab": {
          "base_uri": "https://localhost:8080/"
        },
        "id": "sLLR8Std7-Gw",
        "outputId": "0e97ea76-4fda-472c-d5b0-bca460dfd7b5"
      },
      "source": [
        "grid_svm_result=svm(X_resampled,\n",
        "                    y_resampled,\n",
        "                    # class_weighted = True,\n",
        "                    score_weight = True,\n",
        "                    # cltv_weighted = True,\n",
        "                    default= False\n",
        "                    ) "
      ],
      "execution_count": null,
      "outputs": [
        {
          "output_type": "stream",
          "text": [
            "Fitting 30 folds for each of 30 candidates, totalling 900 fits\n"
          ],
          "name": "stdout"
        }
      ]
    },
    {
      "cell_type": "code",
      "metadata": {
        "id": "FjM2zbAFNbwL",
        "colab": {
          "base_uri": "https://localhost:8080/",
          "height": 446
        },
        "outputId": "1daf277b-cb25-4bf1-e261-f33a3e5ae817"
      },
      "source": [
        "show_model_gs(grid_svm_result, X_test_scaled, y_test)"
      ],
      "execution_count": null,
      "outputs": [
        {
          "output_type": "stream",
          "text": [
            "Best Cross-Validation Score: 0.836333 using {'C': 100, 'gamma': 0.0001, 'kernel': 'sigmoid'}\n",
            "              precision    recall  f1-score   support\n",
            "\n",
            "         0.0       0.70      0.93      0.80      1168\n",
            "         1.0       0.84      0.50      0.63       928\n",
            "\n",
            "    accuracy                           0.74      2096\n",
            "   macro avg       0.77      0.71      0.71      2096\n",
            "weighted avg       0.76      0.74      0.72      2096\n",
            "\n"
          ],
          "name": "stdout"
        },
        {
          "output_type": "display_data",
          "data": {
            "image/png": "[encoded data removed]",
            "text/plain": [
              "<Figure size 432x288 with 2 Axes>"
            ]
          },
          "metadata": {
            "tags": [],
            "needs_background": "light"
          }
        }
      ]
    },
    {
      "cell_type": "markdown",
      "metadata": {
        "id": "Y_qzSfY-hhdM"
      },
      "source": [
        "# Threshold Tuning"
      ]
    },
    {
      "cell_type": "code",
      "metadata": {
        "id": "PF9KBPertu18",
        "colab": {
          "base_uri": "https://localhost:8080/",
          "height": 347
        },
        "outputId": "070fc121-13fb-4524-c0d9-a6e9dfe4dc02"
      },
      "source": [
        "\n",
        "from yellowbrick.classifier import DiscriminationThreshold\n",
        "from sklearn.model_selection import RepeatedStratifiedKFold\n",
        "cv = RepeatedStratifiedKFold(n_splits=10, n_repeats=3, random_state=123)\n",
        "visualizer = DiscriminationThreshold(grid_lr_result.best_estimator_,\n",
        "                                    #quantiles=np.array([0.25, 0.5, 0.75]),\n",
        "                                    cv=cv,\n",
        "                                    random_state = 123,\n",
        "                                    fbeta=5**0.5\n",
        "                                    )\n",
        "try:\n",
        "  visualizer.fit(X_resampled, y_resampled)\n",
        "except:\n",
        "  print(\"I don't know why this happens, probably because we don't use pipeline\")\n",
        "\n",
        "best_threshold=visualizer.thresholds_[visualizer.cv_scores_[visualizer.argmax].argmax()]"
      ],
      "execution_count": null,
      "outputs": [
        {
          "output_type": "display_data",
          "data": {
            "image/png": "[encoded data removed]",
            "text/plain": [
              "<Figure size 576x396 with 1 Axes>"
            ]
          },
          "metadata": {
            "tags": []
          }
        }
      ]
    },
    {
      "cell_type": "code",
      "metadata": {
        "id": "Ai_ie_mnnalk"
      },
      "source": [
        "def threshold_show(gs_instance, best_threshold,X,y):\n",
        "  from sklearn.metrics import classification_report\n",
        "  y_hat_test_after_threshold=(gs_instance.best_estimator_.predict_proba(X)[:,1]>best_threshold).astype(int)\n",
        "  cm=confusion_matrix(y,y_hat_test_after_threshold)\n",
        "  conf_matrix=pd.DataFrame(data=cm,columns=['Predicted:0','Predicted:1'],index=['Actual:0','Actual:1'])\n",
        "  plt.figure(figsize = (8,5))\n",
        "  sns.heatmap(conf_matrix, annot=True,fmt='d',cmap=\"YlGnBu\")\n",
        "  print(\"Best Threshold: %f\" %best_threshold)\n",
        "  print(classification_report(y_hat_test_after_threshold, y))\n",
        "\n",
        "def cltv_threshold_show(gs_instance, best_threshold,X_test_scaled,y_test):\n",
        "  from sklearn.metrics import classification_report\n",
        "  y_hat_test=(gs_instance.best_estimator_.predict_proba(X_test_scaled)[:,1]>best_threshold).astype(int)\n",
        "  cm=confusion_matrix(y_test,y_hat_test)\n",
        "  conf_matrix=pd.DataFrame(data=cm,columns=['Predicted:0','Predicted:1'],index=['Actual:0','Actual:1'])\n",
        "  plt.figure(figsize = (8,5))\n",
        "  sns.heatmap(conf_matrix, annot=True,fmt='d',cmap=\"YlGnBu\")\n",
        "  print(\"Best Threshold: %f\" %best_threshold)\n",
        "  print(classification_report(y_hat_test, y_test))\n",
        "  fn = get_fn_cltv(y_test,y_hat_test)\n",
        "  fp = get_fp_cltv(y_test,y_hat_test)\n",
        "  s1 = fn+fp\n",
        "  s2 = 5*fn +fp\n",
        "  print(\"CLTV FP: %f | FN: %f \" %(fp,fn))\n",
        "  print(\"Sum: %f1 |Weighted Sum: %f \" %(s1,s2))"
      ],
      "execution_count": null,
      "outputs": []
    },
    {
      "cell_type": "code",
      "metadata": {
        "colab": {
          "base_uri": "https://localhost:8080/",
          "height": 538
        },
        "id": "Kr6eKjTdr50M",
        "outputId": "f65c20c6-aa82-40cd-bd11-f8cde4b4979d"
      },
      "source": [
        "cltv_threshold_show(grid_lr_result,best_threshold,X_test_scaled,y_test)"
      ],
      "execution_count": null,
      "outputs": [
        {
          "output_type": "stream",
          "text": [
            "Best Threshold: 0.140000\n",
            "              precision    recall  f1-score   support\n",
            "\n",
            "           0       0.57      0.96      0.72       919\n",
            "           1       0.93      0.44      0.60      1177\n",
            "\n",
            "    accuracy                           0.67      2096\n",
            "   macro avg       0.75      0.70      0.66      2096\n",
            "weighted avg       0.77      0.67      0.65      2096\n",
            "\n",
            "CLTV FP: 2822110.000000 | FN: 179350.000000 \n",
            "Sum: 3001460.0000001 |Weighted Sum: 3718860.000000 \n"
          ],
          "name": "stdout"
        },
        {
          "output_type": "display_data",
          "data": {
            "image/png": "[encoded data removed]",
            "text/plain": [
              "<Figure size 576x360 with 2 Axes>"
            ]
          },
          "metadata": {
            "tags": []
          }
        }
      ]
    },
    {
      "cell_type": "markdown",
      "metadata": {
        "id": "bcghZuZIhmaA"
      },
      "source": [
        "# Unfinished"
      ]
    },
    {
      "cell_type": "code",
      "metadata": {
        "colab": {
          "base_uri": "https://localhost:8080/"
        },
        "id": "c-dhQyCm8EW8",
        "outputId": "f4869f0c-3b0c-404d-aa20-23e29248be15"
      },
      "source": [
        "#unfinished\n",
        "def rfe(gs_instance,X_train_scaled, y_train,cltv_weighted=False,default=True):\n",
        "  from sklearn.feature_selection import RFECV\n",
        "  from sklearn.model_selection import RepeatedStratifiedKFold\n",
        "  cv = RepeatedStratifiedKFold(n_splits=10, n_repeats=3, random_state=123)\n",
        "  estimator = gs_instance.best_estimator_\n",
        "  if cltv_weighted:\n",
        "    selector = RFECV(estimator, step=1, cv=cv,scoring=cltv_weighted_f_beta_scorer,n_jobs=-1)\n",
        "  else:\n",
        "    selector = RFECV(estimator, step=1, cv=cv,scoring=weighted_f_beta_scorer,n_jobs=-1)\n",
        "  if default:\n",
        "    selector = RFECV(estimator, step=1, cv=cv,scoring=f1_scorer,n_jobs=-1)\n",
        "  selector_result = selector.fit(X_train_scaled, y_train)\n",
        "  return selector_result\n",
        "rfe_result = rfe(grid_lr_result,X_resampled1, y_resampled1,default=False)\n",
        "\n",
        "show_model_rfe (rfe_result, X_test_scaled, y_test)"
      ],
      "execution_count": null,
      "outputs": [
        {
          "output_type": "execute_result",
          "data": {
            "text/plain": [
              "Counter({0.0: 3630, 1.0: 3630})"
            ]
          },
          "metadata": {
            "tags": []
          },
          "execution_count": 86
        }
      ]
    }
  ]
}